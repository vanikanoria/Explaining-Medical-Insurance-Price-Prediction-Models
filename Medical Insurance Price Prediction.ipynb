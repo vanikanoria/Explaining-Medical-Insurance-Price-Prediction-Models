{
 "cells": [
  {
   "cell_type": "markdown",
   "id": "65f27a94",
   "metadata": {},
   "source": [
    "# Explaining Medical Insurance Price Prediction Models"
   ]
  },
  {
   "cell_type": "code",
   "execution_count": 2,
   "id": "7b9dc06c",
   "metadata": {},
   "outputs": [],
   "source": [
    "#import libraries\n",
    "import pandas as pd\n",
    "import scipy\n",
    "import sklearn\n",
    "import numpy as np\n",
    "import shap\n",
    "from sklearn.linear_model import LinearRegression\n",
    "from sklearn.ensemble import RandomForestRegressor\n",
    "from sklearn.metrics import mean_squared_error, r2_score\n",
    "from sklearn.tree import DecisionTreeClassifier\n",
    "from xgboost import XGBRegressor, cv, DMatrix, plot_importance"
   ]
  },
  {
   "cell_type": "code",
   "execution_count": 3,
   "id": "794e0716",
   "metadata": {},
   "outputs": [],
   "source": [
    "df = pd.read_csv('Medical_insurance.csv')"
   ]
  },
  {
   "cell_type": "markdown",
   "id": "470f4cd8",
   "metadata": {},
   "source": [
    "### Source of dataset: https://www.kaggle.com/datasets/harishkumardatalab/medical-insurance-price-prediction"
   ]
  },
  {
   "cell_type": "code",
   "execution_count": 4,
   "id": "4b8eb9bf",
   "metadata": {
    "scrolled": true
   },
   "outputs": [
    {
     "data": {
      "text/html": [
       "<div>\n",
       "<style scoped>\n",
       "    .dataframe tbody tr th:only-of-type {\n",
       "        vertical-align: middle;\n",
       "    }\n",
       "\n",
       "    .dataframe tbody tr th {\n",
       "        vertical-align: top;\n",
       "    }\n",
       "\n",
       "    .dataframe thead th {\n",
       "        text-align: right;\n",
       "    }\n",
       "</style>\n",
       "<table border=\"1\" class=\"dataframe\">\n",
       "  <thead>\n",
       "    <tr style=\"text-align: right;\">\n",
       "      <th></th>\n",
       "      <th>age</th>\n",
       "      <th>sex</th>\n",
       "      <th>bmi</th>\n",
       "      <th>children</th>\n",
       "      <th>smoker</th>\n",
       "      <th>region</th>\n",
       "      <th>charges</th>\n",
       "    </tr>\n",
       "  </thead>\n",
       "  <tbody>\n",
       "    <tr>\n",
       "      <th>0</th>\n",
       "      <td>19</td>\n",
       "      <td>female</td>\n",
       "      <td>27.900</td>\n",
       "      <td>0</td>\n",
       "      <td>yes</td>\n",
       "      <td>southwest</td>\n",
       "      <td>16884.92400</td>\n",
       "    </tr>\n",
       "    <tr>\n",
       "      <th>1</th>\n",
       "      <td>18</td>\n",
       "      <td>male</td>\n",
       "      <td>33.770</td>\n",
       "      <td>1</td>\n",
       "      <td>no</td>\n",
       "      <td>southeast</td>\n",
       "      <td>1725.55230</td>\n",
       "    </tr>\n",
       "    <tr>\n",
       "      <th>2</th>\n",
       "      <td>28</td>\n",
       "      <td>male</td>\n",
       "      <td>33.000</td>\n",
       "      <td>3</td>\n",
       "      <td>no</td>\n",
       "      <td>southeast</td>\n",
       "      <td>4449.46200</td>\n",
       "    </tr>\n",
       "    <tr>\n",
       "      <th>3</th>\n",
       "      <td>33</td>\n",
       "      <td>male</td>\n",
       "      <td>22.705</td>\n",
       "      <td>0</td>\n",
       "      <td>no</td>\n",
       "      <td>northwest</td>\n",
       "      <td>21984.47061</td>\n",
       "    </tr>\n",
       "    <tr>\n",
       "      <th>4</th>\n",
       "      <td>32</td>\n",
       "      <td>male</td>\n",
       "      <td>28.880</td>\n",
       "      <td>0</td>\n",
       "      <td>no</td>\n",
       "      <td>northwest</td>\n",
       "      <td>3866.85520</td>\n",
       "    </tr>\n",
       "  </tbody>\n",
       "</table>\n",
       "</div>"
      ],
      "text/plain": [
       "   age     sex     bmi  children smoker     region      charges\n",
       "0   19  female  27.900         0    yes  southwest  16884.92400\n",
       "1   18    male  33.770         1     no  southeast   1725.55230\n",
       "2   28    male  33.000         3     no  southeast   4449.46200\n",
       "3   33    male  22.705         0     no  northwest  21984.47061\n",
       "4   32    male  28.880         0     no  northwest   3866.85520"
      ]
     },
     "execution_count": 4,
     "metadata": {},
     "output_type": "execute_result"
    }
   ],
   "source": [
    "df.head()"
   ]
  },
  {
   "cell_type": "markdown",
   "id": "b770d379",
   "metadata": {},
   "source": [
    "## Questions:\n",
    "1. What are the most important factors that affect medical expenses?\n",
    "2. How well can machine learning models predict medical expenses?\n",
    "3. How can machine learning models be used to improve the efficiency and profitability of health insurance companies?\n"
   ]
  },
  {
   "cell_type": "markdown",
   "id": "8b643938",
   "metadata": {},
   "source": [
    "## First look at data"
   ]
  },
  {
   "cell_type": "code",
   "execution_count": 5,
   "id": "2127cc46",
   "metadata": {},
   "outputs": [
    {
     "data": {
      "text/plain": [
       "(2772, 7)"
      ]
     },
     "execution_count": 5,
     "metadata": {},
     "output_type": "execute_result"
    }
   ],
   "source": [
    "df.shape"
   ]
  },
  {
   "cell_type": "code",
   "execution_count": 6,
   "id": "fabd34b4",
   "metadata": {},
   "outputs": [
    {
     "name": "stdout",
     "output_type": "stream",
     "text": [
      "<class 'pandas.core.frame.DataFrame'>\n",
      "RangeIndex: 2772 entries, 0 to 2771\n",
      "Data columns (total 7 columns):\n",
      " #   Column    Non-Null Count  Dtype  \n",
      "---  ------    --------------  -----  \n",
      " 0   age       2772 non-null   int64  \n",
      " 1   sex       2772 non-null   object \n",
      " 2   bmi       2772 non-null   float64\n",
      " 3   children  2772 non-null   int64  \n",
      " 4   smoker    2772 non-null   object \n",
      " 5   region    2772 non-null   object \n",
      " 6   charges   2772 non-null   float64\n",
      "dtypes: float64(2), int64(2), object(3)\n",
      "memory usage: 151.7+ KB\n"
     ]
    }
   ],
   "source": [
    "#null values and duplicates\n",
    "df.info()"
   ]
  },
  {
   "cell_type": "code",
   "execution_count": 7,
   "id": "307791a5",
   "metadata": {},
   "outputs": [
    {
     "data": {
      "text/plain": [
       "1435"
      ]
     },
     "execution_count": 7,
     "metadata": {},
     "output_type": "execute_result"
    }
   ],
   "source": [
    "df.duplicated().sum()\n"
   ]
  },
  {
   "cell_type": "code",
   "execution_count": 8,
   "id": "a5f1c505",
   "metadata": {},
   "outputs": [],
   "source": [
    "df = df.drop_duplicates()"
   ]
  },
  {
   "cell_type": "code",
   "execution_count": 9,
   "id": "031e5836",
   "metadata": {},
   "outputs": [
    {
     "data": {
      "text/plain": [
       "(1337, 7)"
      ]
     },
     "execution_count": 9,
     "metadata": {},
     "output_type": "execute_result"
    }
   ],
   "source": [
    "df.shape"
   ]
  },
  {
   "cell_type": "code",
   "execution_count": 10,
   "id": "217a90ac",
   "metadata": {},
   "outputs": [
    {
     "data": {
      "text/html": [
       "<div>\n",
       "<style scoped>\n",
       "    .dataframe tbody tr th:only-of-type {\n",
       "        vertical-align: middle;\n",
       "    }\n",
       "\n",
       "    .dataframe tbody tr th {\n",
       "        vertical-align: top;\n",
       "    }\n",
       "\n",
       "    .dataframe thead th {\n",
       "        text-align: right;\n",
       "    }\n",
       "</style>\n",
       "<table border=\"1\" class=\"dataframe\">\n",
       "  <thead>\n",
       "    <tr style=\"text-align: right;\">\n",
       "      <th></th>\n",
       "      <th>age</th>\n",
       "      <th>bmi</th>\n",
       "      <th>children</th>\n",
       "      <th>charges</th>\n",
       "    </tr>\n",
       "  </thead>\n",
       "  <tbody>\n",
       "    <tr>\n",
       "      <th>count</th>\n",
       "      <td>1337.000000</td>\n",
       "      <td>1337.000000</td>\n",
       "      <td>1337.000000</td>\n",
       "      <td>1337.000000</td>\n",
       "    </tr>\n",
       "    <tr>\n",
       "      <th>mean</th>\n",
       "      <td>39.222139</td>\n",
       "      <td>30.663452</td>\n",
       "      <td>1.095737</td>\n",
       "      <td>13279.121487</td>\n",
       "    </tr>\n",
       "    <tr>\n",
       "      <th>std</th>\n",
       "      <td>14.044333</td>\n",
       "      <td>6.100468</td>\n",
       "      <td>1.205571</td>\n",
       "      <td>12110.359656</td>\n",
       "    </tr>\n",
       "    <tr>\n",
       "      <th>min</th>\n",
       "      <td>18.000000</td>\n",
       "      <td>15.960000</td>\n",
       "      <td>0.000000</td>\n",
       "      <td>1121.873900</td>\n",
       "    </tr>\n",
       "    <tr>\n",
       "      <th>25%</th>\n",
       "      <td>27.000000</td>\n",
       "      <td>26.290000</td>\n",
       "      <td>0.000000</td>\n",
       "      <td>4746.344000</td>\n",
       "    </tr>\n",
       "    <tr>\n",
       "      <th>50%</th>\n",
       "      <td>39.000000</td>\n",
       "      <td>30.400000</td>\n",
       "      <td>1.000000</td>\n",
       "      <td>9386.161300</td>\n",
       "    </tr>\n",
       "    <tr>\n",
       "      <th>75%</th>\n",
       "      <td>51.000000</td>\n",
       "      <td>34.700000</td>\n",
       "      <td>2.000000</td>\n",
       "      <td>16657.717450</td>\n",
       "    </tr>\n",
       "    <tr>\n",
       "      <th>max</th>\n",
       "      <td>64.000000</td>\n",
       "      <td>53.130000</td>\n",
       "      <td>5.000000</td>\n",
       "      <td>63770.428010</td>\n",
       "    </tr>\n",
       "  </tbody>\n",
       "</table>\n",
       "</div>"
      ],
      "text/plain": [
       "               age          bmi     children       charges\n",
       "count  1337.000000  1337.000000  1337.000000   1337.000000\n",
       "mean     39.222139    30.663452     1.095737  13279.121487\n",
       "std      14.044333     6.100468     1.205571  12110.359656\n",
       "min      18.000000    15.960000     0.000000   1121.873900\n",
       "25%      27.000000    26.290000     0.000000   4746.344000\n",
       "50%      39.000000    30.400000     1.000000   9386.161300\n",
       "75%      51.000000    34.700000     2.000000  16657.717450\n",
       "max      64.000000    53.130000     5.000000  63770.428010"
      ]
     },
     "execution_count": 10,
     "metadata": {},
     "output_type": "execute_result"
    }
   ],
   "source": [
    "df.describe()"
   ]
  },
  {
   "cell_type": "code",
   "execution_count": 11,
   "id": "86fa3711",
   "metadata": {
    "scrolled": true
   },
   "outputs": [
    {
     "data": {
      "text/html": [
       "<div>\n",
       "<style scoped>\n",
       "    .dataframe tbody tr th:only-of-type {\n",
       "        vertical-align: middle;\n",
       "    }\n",
       "\n",
       "    .dataframe tbody tr th {\n",
       "        vertical-align: top;\n",
       "    }\n",
       "\n",
       "    .dataframe thead th {\n",
       "        text-align: right;\n",
       "    }\n",
       "</style>\n",
       "<table border=\"1\" class=\"dataframe\">\n",
       "  <thead>\n",
       "    <tr style=\"text-align: right;\">\n",
       "      <th></th>\n",
       "      <th>age</th>\n",
       "      <th>bmi</th>\n",
       "      <th>children</th>\n",
       "      <th>charges</th>\n",
       "    </tr>\n",
       "  </thead>\n",
       "  <tbody>\n",
       "    <tr>\n",
       "      <th>age</th>\n",
       "      <td>1.000000</td>\n",
       "      <td>0.109344</td>\n",
       "      <td>0.041536</td>\n",
       "      <td>0.298308</td>\n",
       "    </tr>\n",
       "    <tr>\n",
       "      <th>bmi</th>\n",
       "      <td>0.109344</td>\n",
       "      <td>1.000000</td>\n",
       "      <td>0.012755</td>\n",
       "      <td>0.198401</td>\n",
       "    </tr>\n",
       "    <tr>\n",
       "      <th>children</th>\n",
       "      <td>0.041536</td>\n",
       "      <td>0.012755</td>\n",
       "      <td>1.000000</td>\n",
       "      <td>0.067389</td>\n",
       "    </tr>\n",
       "    <tr>\n",
       "      <th>charges</th>\n",
       "      <td>0.298308</td>\n",
       "      <td>0.198401</td>\n",
       "      <td>0.067389</td>\n",
       "      <td>1.000000</td>\n",
       "    </tr>\n",
       "  </tbody>\n",
       "</table>\n",
       "</div>"
      ],
      "text/plain": [
       "               age       bmi  children   charges\n",
       "age       1.000000  0.109344  0.041536  0.298308\n",
       "bmi       0.109344  1.000000  0.012755  0.198401\n",
       "children  0.041536  0.012755  1.000000  0.067389\n",
       "charges   0.298308  0.198401  0.067389  1.000000"
      ]
     },
     "execution_count": 11,
     "metadata": {},
     "output_type": "execute_result"
    }
   ],
   "source": [
    "df.corr(numeric_only=True) \n",
    "# age seems to be the most important feature - can try to infer from the model - SHAP values"
   ]
  },
  {
   "cell_type": "markdown",
   "id": "02c5ce3c",
   "metadata": {},
   "source": [
    "## Data Preprocessing"
   ]
  },
  {
   "cell_type": "markdown",
   "id": "01165a8d",
   "metadata": {},
   "source": [
    "### Get boolean variables for 'male' and 'smokes'"
   ]
  },
  {
   "cell_type": "code",
   "execution_count": 12,
   "id": "add00b7e",
   "metadata": {},
   "outputs": [],
   "source": [
    "male = np.zeros(df.shape[0])"
   ]
  },
  {
   "cell_type": "code",
   "execution_count": 13,
   "id": "aa2748cb",
   "metadata": {},
   "outputs": [],
   "source": [
    "male[df['sex']=='male']=1"
   ]
  },
  {
   "cell_type": "code",
   "execution_count": 14,
   "id": "bbcfd282",
   "metadata": {},
   "outputs": [],
   "source": [
    "df['male']= male"
   ]
  },
  {
   "cell_type": "code",
   "execution_count": 15,
   "id": "e6f26a18",
   "metadata": {
    "scrolled": true
   },
   "outputs": [
    {
     "data": {
      "text/html": [
       "<div>\n",
       "<style scoped>\n",
       "    .dataframe tbody tr th:only-of-type {\n",
       "        vertical-align: middle;\n",
       "    }\n",
       "\n",
       "    .dataframe tbody tr th {\n",
       "        vertical-align: top;\n",
       "    }\n",
       "\n",
       "    .dataframe thead th {\n",
       "        text-align: right;\n",
       "    }\n",
       "</style>\n",
       "<table border=\"1\" class=\"dataframe\">\n",
       "  <thead>\n",
       "    <tr style=\"text-align: right;\">\n",
       "      <th></th>\n",
       "      <th>age</th>\n",
       "      <th>sex</th>\n",
       "      <th>bmi</th>\n",
       "      <th>children</th>\n",
       "      <th>smoker</th>\n",
       "      <th>region</th>\n",
       "      <th>charges</th>\n",
       "      <th>male</th>\n",
       "    </tr>\n",
       "  </thead>\n",
       "  <tbody>\n",
       "    <tr>\n",
       "      <th>0</th>\n",
       "      <td>19</td>\n",
       "      <td>female</td>\n",
       "      <td>27.900</td>\n",
       "      <td>0</td>\n",
       "      <td>yes</td>\n",
       "      <td>southwest</td>\n",
       "      <td>16884.92400</td>\n",
       "      <td>0.0</td>\n",
       "    </tr>\n",
       "    <tr>\n",
       "      <th>1</th>\n",
       "      <td>18</td>\n",
       "      <td>male</td>\n",
       "      <td>33.770</td>\n",
       "      <td>1</td>\n",
       "      <td>no</td>\n",
       "      <td>southeast</td>\n",
       "      <td>1725.55230</td>\n",
       "      <td>1.0</td>\n",
       "    </tr>\n",
       "    <tr>\n",
       "      <th>2</th>\n",
       "      <td>28</td>\n",
       "      <td>male</td>\n",
       "      <td>33.000</td>\n",
       "      <td>3</td>\n",
       "      <td>no</td>\n",
       "      <td>southeast</td>\n",
       "      <td>4449.46200</td>\n",
       "      <td>1.0</td>\n",
       "    </tr>\n",
       "    <tr>\n",
       "      <th>3</th>\n",
       "      <td>33</td>\n",
       "      <td>male</td>\n",
       "      <td>22.705</td>\n",
       "      <td>0</td>\n",
       "      <td>no</td>\n",
       "      <td>northwest</td>\n",
       "      <td>21984.47061</td>\n",
       "      <td>1.0</td>\n",
       "    </tr>\n",
       "    <tr>\n",
       "      <th>4</th>\n",
       "      <td>32</td>\n",
       "      <td>male</td>\n",
       "      <td>28.880</td>\n",
       "      <td>0</td>\n",
       "      <td>no</td>\n",
       "      <td>northwest</td>\n",
       "      <td>3866.85520</td>\n",
       "      <td>1.0</td>\n",
       "    </tr>\n",
       "    <tr>\n",
       "      <th>...</th>\n",
       "      <td>...</td>\n",
       "      <td>...</td>\n",
       "      <td>...</td>\n",
       "      <td>...</td>\n",
       "      <td>...</td>\n",
       "      <td>...</td>\n",
       "      <td>...</td>\n",
       "      <td>...</td>\n",
       "    </tr>\n",
       "    <tr>\n",
       "      <th>1333</th>\n",
       "      <td>50</td>\n",
       "      <td>male</td>\n",
       "      <td>30.970</td>\n",
       "      <td>3</td>\n",
       "      <td>no</td>\n",
       "      <td>northwest</td>\n",
       "      <td>10600.54830</td>\n",
       "      <td>1.0</td>\n",
       "    </tr>\n",
       "    <tr>\n",
       "      <th>1334</th>\n",
       "      <td>18</td>\n",
       "      <td>female</td>\n",
       "      <td>31.920</td>\n",
       "      <td>0</td>\n",
       "      <td>no</td>\n",
       "      <td>northeast</td>\n",
       "      <td>2205.98080</td>\n",
       "      <td>0.0</td>\n",
       "    </tr>\n",
       "    <tr>\n",
       "      <th>1335</th>\n",
       "      <td>18</td>\n",
       "      <td>female</td>\n",
       "      <td>36.850</td>\n",
       "      <td>0</td>\n",
       "      <td>no</td>\n",
       "      <td>southeast</td>\n",
       "      <td>1629.83350</td>\n",
       "      <td>0.0</td>\n",
       "    </tr>\n",
       "    <tr>\n",
       "      <th>1336</th>\n",
       "      <td>21</td>\n",
       "      <td>female</td>\n",
       "      <td>25.800</td>\n",
       "      <td>0</td>\n",
       "      <td>no</td>\n",
       "      <td>southwest</td>\n",
       "      <td>2007.94500</td>\n",
       "      <td>0.0</td>\n",
       "    </tr>\n",
       "    <tr>\n",
       "      <th>1337</th>\n",
       "      <td>61</td>\n",
       "      <td>female</td>\n",
       "      <td>29.070</td>\n",
       "      <td>0</td>\n",
       "      <td>yes</td>\n",
       "      <td>northwest</td>\n",
       "      <td>29141.36030</td>\n",
       "      <td>0.0</td>\n",
       "    </tr>\n",
       "  </tbody>\n",
       "</table>\n",
       "<p>1337 rows × 8 columns</p>\n",
       "</div>"
      ],
      "text/plain": [
       "      age     sex     bmi  children smoker     region      charges  male\n",
       "0      19  female  27.900         0    yes  southwest  16884.92400   0.0\n",
       "1      18    male  33.770         1     no  southeast   1725.55230   1.0\n",
       "2      28    male  33.000         3     no  southeast   4449.46200   1.0\n",
       "3      33    male  22.705         0     no  northwest  21984.47061   1.0\n",
       "4      32    male  28.880         0     no  northwest   3866.85520   1.0\n",
       "...   ...     ...     ...       ...    ...        ...          ...   ...\n",
       "1333   50    male  30.970         3     no  northwest  10600.54830   1.0\n",
       "1334   18  female  31.920         0     no  northeast   2205.98080   0.0\n",
       "1335   18  female  36.850         0     no  southeast   1629.83350   0.0\n",
       "1336   21  female  25.800         0     no  southwest   2007.94500   0.0\n",
       "1337   61  female  29.070         0    yes  northwest  29141.36030   0.0\n",
       "\n",
       "[1337 rows x 8 columns]"
      ]
     },
     "execution_count": 15,
     "metadata": {},
     "output_type": "execute_result"
    }
   ],
   "source": [
    "df"
   ]
  },
  {
   "cell_type": "code",
   "execution_count": 16,
   "id": "e9bd567b",
   "metadata": {},
   "outputs": [],
   "source": [
    "#sex, smoker --> convert to boolean\n",
    "#region --> dummy variables\n",
    "\n",
    "#make functions\n",
    "def smoker_convert(smoker):\n",
    "    if smoker == 'yes':\n",
    "        return 1\n",
    "    else:\n",
    "        return 0\n",
    "    "
   ]
  },
  {
   "cell_type": "code",
   "execution_count": 17,
   "id": "aa09272b",
   "metadata": {},
   "outputs": [],
   "source": [
    "df['smokes'] = df.loc[:,'smoker'].apply(smoker_convert)"
   ]
  },
  {
   "cell_type": "code",
   "execution_count": 18,
   "id": "5cc05bb6",
   "metadata": {},
   "outputs": [
    {
     "data": {
      "text/html": [
       "<div>\n",
       "<style scoped>\n",
       "    .dataframe tbody tr th:only-of-type {\n",
       "        vertical-align: middle;\n",
       "    }\n",
       "\n",
       "    .dataframe tbody tr th {\n",
       "        vertical-align: top;\n",
       "    }\n",
       "\n",
       "    .dataframe thead th {\n",
       "        text-align: right;\n",
       "    }\n",
       "</style>\n",
       "<table border=\"1\" class=\"dataframe\">\n",
       "  <thead>\n",
       "    <tr style=\"text-align: right;\">\n",
       "      <th></th>\n",
       "      <th>age</th>\n",
       "      <th>sex</th>\n",
       "      <th>bmi</th>\n",
       "      <th>children</th>\n",
       "      <th>smoker</th>\n",
       "      <th>region</th>\n",
       "      <th>charges</th>\n",
       "      <th>male</th>\n",
       "      <th>smokes</th>\n",
       "    </tr>\n",
       "  </thead>\n",
       "  <tbody>\n",
       "    <tr>\n",
       "      <th>0</th>\n",
       "      <td>19</td>\n",
       "      <td>female</td>\n",
       "      <td>27.900</td>\n",
       "      <td>0</td>\n",
       "      <td>yes</td>\n",
       "      <td>southwest</td>\n",
       "      <td>16884.92400</td>\n",
       "      <td>0.0</td>\n",
       "      <td>1</td>\n",
       "    </tr>\n",
       "    <tr>\n",
       "      <th>1</th>\n",
       "      <td>18</td>\n",
       "      <td>male</td>\n",
       "      <td>33.770</td>\n",
       "      <td>1</td>\n",
       "      <td>no</td>\n",
       "      <td>southeast</td>\n",
       "      <td>1725.55230</td>\n",
       "      <td>1.0</td>\n",
       "      <td>0</td>\n",
       "    </tr>\n",
       "    <tr>\n",
       "      <th>2</th>\n",
       "      <td>28</td>\n",
       "      <td>male</td>\n",
       "      <td>33.000</td>\n",
       "      <td>3</td>\n",
       "      <td>no</td>\n",
       "      <td>southeast</td>\n",
       "      <td>4449.46200</td>\n",
       "      <td>1.0</td>\n",
       "      <td>0</td>\n",
       "    </tr>\n",
       "    <tr>\n",
       "      <th>3</th>\n",
       "      <td>33</td>\n",
       "      <td>male</td>\n",
       "      <td>22.705</td>\n",
       "      <td>0</td>\n",
       "      <td>no</td>\n",
       "      <td>northwest</td>\n",
       "      <td>21984.47061</td>\n",
       "      <td>1.0</td>\n",
       "      <td>0</td>\n",
       "    </tr>\n",
       "    <tr>\n",
       "      <th>4</th>\n",
       "      <td>32</td>\n",
       "      <td>male</td>\n",
       "      <td>28.880</td>\n",
       "      <td>0</td>\n",
       "      <td>no</td>\n",
       "      <td>northwest</td>\n",
       "      <td>3866.85520</td>\n",
       "      <td>1.0</td>\n",
       "      <td>0</td>\n",
       "    </tr>\n",
       "    <tr>\n",
       "      <th>...</th>\n",
       "      <td>...</td>\n",
       "      <td>...</td>\n",
       "      <td>...</td>\n",
       "      <td>...</td>\n",
       "      <td>...</td>\n",
       "      <td>...</td>\n",
       "      <td>...</td>\n",
       "      <td>...</td>\n",
       "      <td>...</td>\n",
       "    </tr>\n",
       "    <tr>\n",
       "      <th>1333</th>\n",
       "      <td>50</td>\n",
       "      <td>male</td>\n",
       "      <td>30.970</td>\n",
       "      <td>3</td>\n",
       "      <td>no</td>\n",
       "      <td>northwest</td>\n",
       "      <td>10600.54830</td>\n",
       "      <td>1.0</td>\n",
       "      <td>0</td>\n",
       "    </tr>\n",
       "    <tr>\n",
       "      <th>1334</th>\n",
       "      <td>18</td>\n",
       "      <td>female</td>\n",
       "      <td>31.920</td>\n",
       "      <td>0</td>\n",
       "      <td>no</td>\n",
       "      <td>northeast</td>\n",
       "      <td>2205.98080</td>\n",
       "      <td>0.0</td>\n",
       "      <td>0</td>\n",
       "    </tr>\n",
       "    <tr>\n",
       "      <th>1335</th>\n",
       "      <td>18</td>\n",
       "      <td>female</td>\n",
       "      <td>36.850</td>\n",
       "      <td>0</td>\n",
       "      <td>no</td>\n",
       "      <td>southeast</td>\n",
       "      <td>1629.83350</td>\n",
       "      <td>0.0</td>\n",
       "      <td>0</td>\n",
       "    </tr>\n",
       "    <tr>\n",
       "      <th>1336</th>\n",
       "      <td>21</td>\n",
       "      <td>female</td>\n",
       "      <td>25.800</td>\n",
       "      <td>0</td>\n",
       "      <td>no</td>\n",
       "      <td>southwest</td>\n",
       "      <td>2007.94500</td>\n",
       "      <td>0.0</td>\n",
       "      <td>0</td>\n",
       "    </tr>\n",
       "    <tr>\n",
       "      <th>1337</th>\n",
       "      <td>61</td>\n",
       "      <td>female</td>\n",
       "      <td>29.070</td>\n",
       "      <td>0</td>\n",
       "      <td>yes</td>\n",
       "      <td>northwest</td>\n",
       "      <td>29141.36030</td>\n",
       "      <td>0.0</td>\n",
       "      <td>1</td>\n",
       "    </tr>\n",
       "  </tbody>\n",
       "</table>\n",
       "<p>1337 rows × 9 columns</p>\n",
       "</div>"
      ],
      "text/plain": [
       "      age     sex     bmi  children smoker     region      charges  male  \\\n",
       "0      19  female  27.900         0    yes  southwest  16884.92400   0.0   \n",
       "1      18    male  33.770         1     no  southeast   1725.55230   1.0   \n",
       "2      28    male  33.000         3     no  southeast   4449.46200   1.0   \n",
       "3      33    male  22.705         0     no  northwest  21984.47061   1.0   \n",
       "4      32    male  28.880         0     no  northwest   3866.85520   1.0   \n",
       "...   ...     ...     ...       ...    ...        ...          ...   ...   \n",
       "1333   50    male  30.970         3     no  northwest  10600.54830   1.0   \n",
       "1334   18  female  31.920         0     no  northeast   2205.98080   0.0   \n",
       "1335   18  female  36.850         0     no  southeast   1629.83350   0.0   \n",
       "1336   21  female  25.800         0     no  southwest   2007.94500   0.0   \n",
       "1337   61  female  29.070         0    yes  northwest  29141.36030   0.0   \n",
       "\n",
       "      smokes  \n",
       "0          1  \n",
       "1          0  \n",
       "2          0  \n",
       "3          0  \n",
       "4          0  \n",
       "...      ...  \n",
       "1333       0  \n",
       "1334       0  \n",
       "1335       0  \n",
       "1336       0  \n",
       "1337       1  \n",
       "\n",
       "[1337 rows x 9 columns]"
      ]
     },
     "execution_count": 18,
     "metadata": {},
     "output_type": "execute_result"
    }
   ],
   "source": [
    "df"
   ]
  },
  {
   "cell_type": "markdown",
   "id": "a84ed56d",
   "metadata": {},
   "source": [
    "## Get dummy variables for region"
   ]
  },
  {
   "cell_type": "code",
   "execution_count": 19,
   "id": "101bd9ed",
   "metadata": {},
   "outputs": [],
   "source": [
    "df['region'] = df['region'].astype('category')\n",
    "df_new = pd.get_dummies(df, columns=['region'])"
   ]
  },
  {
   "cell_type": "code",
   "execution_count": 20,
   "id": "d2844488",
   "metadata": {},
   "outputs": [
    {
     "data": {
      "text/html": [
       "<div>\n",
       "<style scoped>\n",
       "    .dataframe tbody tr th:only-of-type {\n",
       "        vertical-align: middle;\n",
       "    }\n",
       "\n",
       "    .dataframe tbody tr th {\n",
       "        vertical-align: top;\n",
       "    }\n",
       "\n",
       "    .dataframe thead th {\n",
       "        text-align: right;\n",
       "    }\n",
       "</style>\n",
       "<table border=\"1\" class=\"dataframe\">\n",
       "  <thead>\n",
       "    <tr style=\"text-align: right;\">\n",
       "      <th></th>\n",
       "      <th>age</th>\n",
       "      <th>sex</th>\n",
       "      <th>bmi</th>\n",
       "      <th>children</th>\n",
       "      <th>smoker</th>\n",
       "      <th>charges</th>\n",
       "      <th>male</th>\n",
       "      <th>smokes</th>\n",
       "      <th>region_northeast</th>\n",
       "      <th>region_northwest</th>\n",
       "      <th>region_southeast</th>\n",
       "      <th>region_southwest</th>\n",
       "    </tr>\n",
       "  </thead>\n",
       "  <tbody>\n",
       "    <tr>\n",
       "      <th>0</th>\n",
       "      <td>19</td>\n",
       "      <td>female</td>\n",
       "      <td>27.900</td>\n",
       "      <td>0</td>\n",
       "      <td>yes</td>\n",
       "      <td>16884.92400</td>\n",
       "      <td>0.0</td>\n",
       "      <td>1</td>\n",
       "      <td>0</td>\n",
       "      <td>0</td>\n",
       "      <td>0</td>\n",
       "      <td>1</td>\n",
       "    </tr>\n",
       "    <tr>\n",
       "      <th>1</th>\n",
       "      <td>18</td>\n",
       "      <td>male</td>\n",
       "      <td>33.770</td>\n",
       "      <td>1</td>\n",
       "      <td>no</td>\n",
       "      <td>1725.55230</td>\n",
       "      <td>1.0</td>\n",
       "      <td>0</td>\n",
       "      <td>0</td>\n",
       "      <td>0</td>\n",
       "      <td>1</td>\n",
       "      <td>0</td>\n",
       "    </tr>\n",
       "    <tr>\n",
       "      <th>2</th>\n",
       "      <td>28</td>\n",
       "      <td>male</td>\n",
       "      <td>33.000</td>\n",
       "      <td>3</td>\n",
       "      <td>no</td>\n",
       "      <td>4449.46200</td>\n",
       "      <td>1.0</td>\n",
       "      <td>0</td>\n",
       "      <td>0</td>\n",
       "      <td>0</td>\n",
       "      <td>1</td>\n",
       "      <td>0</td>\n",
       "    </tr>\n",
       "    <tr>\n",
       "      <th>3</th>\n",
       "      <td>33</td>\n",
       "      <td>male</td>\n",
       "      <td>22.705</td>\n",
       "      <td>0</td>\n",
       "      <td>no</td>\n",
       "      <td>21984.47061</td>\n",
       "      <td>1.0</td>\n",
       "      <td>0</td>\n",
       "      <td>0</td>\n",
       "      <td>1</td>\n",
       "      <td>0</td>\n",
       "      <td>0</td>\n",
       "    </tr>\n",
       "    <tr>\n",
       "      <th>4</th>\n",
       "      <td>32</td>\n",
       "      <td>male</td>\n",
       "      <td>28.880</td>\n",
       "      <td>0</td>\n",
       "      <td>no</td>\n",
       "      <td>3866.85520</td>\n",
       "      <td>1.0</td>\n",
       "      <td>0</td>\n",
       "      <td>0</td>\n",
       "      <td>1</td>\n",
       "      <td>0</td>\n",
       "      <td>0</td>\n",
       "    </tr>\n",
       "    <tr>\n",
       "      <th>...</th>\n",
       "      <td>...</td>\n",
       "      <td>...</td>\n",
       "      <td>...</td>\n",
       "      <td>...</td>\n",
       "      <td>...</td>\n",
       "      <td>...</td>\n",
       "      <td>...</td>\n",
       "      <td>...</td>\n",
       "      <td>...</td>\n",
       "      <td>...</td>\n",
       "      <td>...</td>\n",
       "      <td>...</td>\n",
       "    </tr>\n",
       "    <tr>\n",
       "      <th>1333</th>\n",
       "      <td>50</td>\n",
       "      <td>male</td>\n",
       "      <td>30.970</td>\n",
       "      <td>3</td>\n",
       "      <td>no</td>\n",
       "      <td>10600.54830</td>\n",
       "      <td>1.0</td>\n",
       "      <td>0</td>\n",
       "      <td>0</td>\n",
       "      <td>1</td>\n",
       "      <td>0</td>\n",
       "      <td>0</td>\n",
       "    </tr>\n",
       "    <tr>\n",
       "      <th>1334</th>\n",
       "      <td>18</td>\n",
       "      <td>female</td>\n",
       "      <td>31.920</td>\n",
       "      <td>0</td>\n",
       "      <td>no</td>\n",
       "      <td>2205.98080</td>\n",
       "      <td>0.0</td>\n",
       "      <td>0</td>\n",
       "      <td>1</td>\n",
       "      <td>0</td>\n",
       "      <td>0</td>\n",
       "      <td>0</td>\n",
       "    </tr>\n",
       "    <tr>\n",
       "      <th>1335</th>\n",
       "      <td>18</td>\n",
       "      <td>female</td>\n",
       "      <td>36.850</td>\n",
       "      <td>0</td>\n",
       "      <td>no</td>\n",
       "      <td>1629.83350</td>\n",
       "      <td>0.0</td>\n",
       "      <td>0</td>\n",
       "      <td>0</td>\n",
       "      <td>0</td>\n",
       "      <td>1</td>\n",
       "      <td>0</td>\n",
       "    </tr>\n",
       "    <tr>\n",
       "      <th>1336</th>\n",
       "      <td>21</td>\n",
       "      <td>female</td>\n",
       "      <td>25.800</td>\n",
       "      <td>0</td>\n",
       "      <td>no</td>\n",
       "      <td>2007.94500</td>\n",
       "      <td>0.0</td>\n",
       "      <td>0</td>\n",
       "      <td>0</td>\n",
       "      <td>0</td>\n",
       "      <td>0</td>\n",
       "      <td>1</td>\n",
       "    </tr>\n",
       "    <tr>\n",
       "      <th>1337</th>\n",
       "      <td>61</td>\n",
       "      <td>female</td>\n",
       "      <td>29.070</td>\n",
       "      <td>0</td>\n",
       "      <td>yes</td>\n",
       "      <td>29141.36030</td>\n",
       "      <td>0.0</td>\n",
       "      <td>1</td>\n",
       "      <td>0</td>\n",
       "      <td>1</td>\n",
       "      <td>0</td>\n",
       "      <td>0</td>\n",
       "    </tr>\n",
       "  </tbody>\n",
       "</table>\n",
       "<p>1337 rows × 12 columns</p>\n",
       "</div>"
      ],
      "text/plain": [
       "      age     sex     bmi  children smoker      charges  male  smokes  \\\n",
       "0      19  female  27.900         0    yes  16884.92400   0.0       1   \n",
       "1      18    male  33.770         1     no   1725.55230   1.0       0   \n",
       "2      28    male  33.000         3     no   4449.46200   1.0       0   \n",
       "3      33    male  22.705         0     no  21984.47061   1.0       0   \n",
       "4      32    male  28.880         0     no   3866.85520   1.0       0   \n",
       "...   ...     ...     ...       ...    ...          ...   ...     ...   \n",
       "1333   50    male  30.970         3     no  10600.54830   1.0       0   \n",
       "1334   18  female  31.920         0     no   2205.98080   0.0       0   \n",
       "1335   18  female  36.850         0     no   1629.83350   0.0       0   \n",
       "1336   21  female  25.800         0     no   2007.94500   0.0       0   \n",
       "1337   61  female  29.070         0    yes  29141.36030   0.0       1   \n",
       "\n",
       "      region_northeast  region_northwest  region_southeast  region_southwest  \n",
       "0                    0                 0                 0                 1  \n",
       "1                    0                 0                 1                 0  \n",
       "2                    0                 0                 1                 0  \n",
       "3                    0                 1                 0                 0  \n",
       "4                    0                 1                 0                 0  \n",
       "...                ...               ...               ...               ...  \n",
       "1333                 0                 1                 0                 0  \n",
       "1334                 1                 0                 0                 0  \n",
       "1335                 0                 0                 1                 0  \n",
       "1336                 0                 0                 0                 1  \n",
       "1337                 0                 1                 0                 0  \n",
       "\n",
       "[1337 rows x 12 columns]"
      ]
     },
     "execution_count": 20,
     "metadata": {},
     "output_type": "execute_result"
    }
   ],
   "source": [
    "df_new"
   ]
  },
  {
   "cell_type": "code",
   "execution_count": 21,
   "id": "28b49b7c",
   "metadata": {},
   "outputs": [],
   "source": [
    "df_clean = df_new.drop(['sex', 'smoker'], axis=1)"
   ]
  },
  {
   "cell_type": "code",
   "execution_count": 22,
   "id": "30336fd3",
   "metadata": {},
   "outputs": [
    {
     "data": {
      "text/html": [
       "<div>\n",
       "<style scoped>\n",
       "    .dataframe tbody tr th:only-of-type {\n",
       "        vertical-align: middle;\n",
       "    }\n",
       "\n",
       "    .dataframe tbody tr th {\n",
       "        vertical-align: top;\n",
       "    }\n",
       "\n",
       "    .dataframe thead th {\n",
       "        text-align: right;\n",
       "    }\n",
       "</style>\n",
       "<table border=\"1\" class=\"dataframe\">\n",
       "  <thead>\n",
       "    <tr style=\"text-align: right;\">\n",
       "      <th></th>\n",
       "      <th>age</th>\n",
       "      <th>bmi</th>\n",
       "      <th>children</th>\n",
       "      <th>charges</th>\n",
       "      <th>male</th>\n",
       "      <th>smokes</th>\n",
       "      <th>region_northeast</th>\n",
       "      <th>region_northwest</th>\n",
       "      <th>region_southeast</th>\n",
       "      <th>region_southwest</th>\n",
       "    </tr>\n",
       "  </thead>\n",
       "  <tbody>\n",
       "    <tr>\n",
       "      <th>0</th>\n",
       "      <td>19</td>\n",
       "      <td>27.900</td>\n",
       "      <td>0</td>\n",
       "      <td>16884.92400</td>\n",
       "      <td>0.0</td>\n",
       "      <td>1</td>\n",
       "      <td>0</td>\n",
       "      <td>0</td>\n",
       "      <td>0</td>\n",
       "      <td>1</td>\n",
       "    </tr>\n",
       "    <tr>\n",
       "      <th>1</th>\n",
       "      <td>18</td>\n",
       "      <td>33.770</td>\n",
       "      <td>1</td>\n",
       "      <td>1725.55230</td>\n",
       "      <td>1.0</td>\n",
       "      <td>0</td>\n",
       "      <td>0</td>\n",
       "      <td>0</td>\n",
       "      <td>1</td>\n",
       "      <td>0</td>\n",
       "    </tr>\n",
       "    <tr>\n",
       "      <th>2</th>\n",
       "      <td>28</td>\n",
       "      <td>33.000</td>\n",
       "      <td>3</td>\n",
       "      <td>4449.46200</td>\n",
       "      <td>1.0</td>\n",
       "      <td>0</td>\n",
       "      <td>0</td>\n",
       "      <td>0</td>\n",
       "      <td>1</td>\n",
       "      <td>0</td>\n",
       "    </tr>\n",
       "    <tr>\n",
       "      <th>3</th>\n",
       "      <td>33</td>\n",
       "      <td>22.705</td>\n",
       "      <td>0</td>\n",
       "      <td>21984.47061</td>\n",
       "      <td>1.0</td>\n",
       "      <td>0</td>\n",
       "      <td>0</td>\n",
       "      <td>1</td>\n",
       "      <td>0</td>\n",
       "      <td>0</td>\n",
       "    </tr>\n",
       "    <tr>\n",
       "      <th>4</th>\n",
       "      <td>32</td>\n",
       "      <td>28.880</td>\n",
       "      <td>0</td>\n",
       "      <td>3866.85520</td>\n",
       "      <td>1.0</td>\n",
       "      <td>0</td>\n",
       "      <td>0</td>\n",
       "      <td>1</td>\n",
       "      <td>0</td>\n",
       "      <td>0</td>\n",
       "    </tr>\n",
       "    <tr>\n",
       "      <th>...</th>\n",
       "      <td>...</td>\n",
       "      <td>...</td>\n",
       "      <td>...</td>\n",
       "      <td>...</td>\n",
       "      <td>...</td>\n",
       "      <td>...</td>\n",
       "      <td>...</td>\n",
       "      <td>...</td>\n",
       "      <td>...</td>\n",
       "      <td>...</td>\n",
       "    </tr>\n",
       "    <tr>\n",
       "      <th>1333</th>\n",
       "      <td>50</td>\n",
       "      <td>30.970</td>\n",
       "      <td>3</td>\n",
       "      <td>10600.54830</td>\n",
       "      <td>1.0</td>\n",
       "      <td>0</td>\n",
       "      <td>0</td>\n",
       "      <td>1</td>\n",
       "      <td>0</td>\n",
       "      <td>0</td>\n",
       "    </tr>\n",
       "    <tr>\n",
       "      <th>1334</th>\n",
       "      <td>18</td>\n",
       "      <td>31.920</td>\n",
       "      <td>0</td>\n",
       "      <td>2205.98080</td>\n",
       "      <td>0.0</td>\n",
       "      <td>0</td>\n",
       "      <td>1</td>\n",
       "      <td>0</td>\n",
       "      <td>0</td>\n",
       "      <td>0</td>\n",
       "    </tr>\n",
       "    <tr>\n",
       "      <th>1335</th>\n",
       "      <td>18</td>\n",
       "      <td>36.850</td>\n",
       "      <td>0</td>\n",
       "      <td>1629.83350</td>\n",
       "      <td>0.0</td>\n",
       "      <td>0</td>\n",
       "      <td>0</td>\n",
       "      <td>0</td>\n",
       "      <td>1</td>\n",
       "      <td>0</td>\n",
       "    </tr>\n",
       "    <tr>\n",
       "      <th>1336</th>\n",
       "      <td>21</td>\n",
       "      <td>25.800</td>\n",
       "      <td>0</td>\n",
       "      <td>2007.94500</td>\n",
       "      <td>0.0</td>\n",
       "      <td>0</td>\n",
       "      <td>0</td>\n",
       "      <td>0</td>\n",
       "      <td>0</td>\n",
       "      <td>1</td>\n",
       "    </tr>\n",
       "    <tr>\n",
       "      <th>1337</th>\n",
       "      <td>61</td>\n",
       "      <td>29.070</td>\n",
       "      <td>0</td>\n",
       "      <td>29141.36030</td>\n",
       "      <td>0.0</td>\n",
       "      <td>1</td>\n",
       "      <td>0</td>\n",
       "      <td>1</td>\n",
       "      <td>0</td>\n",
       "      <td>0</td>\n",
       "    </tr>\n",
       "  </tbody>\n",
       "</table>\n",
       "<p>1337 rows × 10 columns</p>\n",
       "</div>"
      ],
      "text/plain": [
       "      age     bmi  children      charges  male  smokes  region_northeast  \\\n",
       "0      19  27.900         0  16884.92400   0.0       1                 0   \n",
       "1      18  33.770         1   1725.55230   1.0       0                 0   \n",
       "2      28  33.000         3   4449.46200   1.0       0                 0   \n",
       "3      33  22.705         0  21984.47061   1.0       0                 0   \n",
       "4      32  28.880         0   3866.85520   1.0       0                 0   \n",
       "...   ...     ...       ...          ...   ...     ...               ...   \n",
       "1333   50  30.970         3  10600.54830   1.0       0                 0   \n",
       "1334   18  31.920         0   2205.98080   0.0       0                 1   \n",
       "1335   18  36.850         0   1629.83350   0.0       0                 0   \n",
       "1336   21  25.800         0   2007.94500   0.0       0                 0   \n",
       "1337   61  29.070         0  29141.36030   0.0       1                 0   \n",
       "\n",
       "      region_northwest  region_southeast  region_southwest  \n",
       "0                    0                 0                 1  \n",
       "1                    0                 1                 0  \n",
       "2                    0                 1                 0  \n",
       "3                    1                 0                 0  \n",
       "4                    1                 0                 0  \n",
       "...                ...               ...               ...  \n",
       "1333                 1                 0                 0  \n",
       "1334                 0                 0                 0  \n",
       "1335                 0                 1                 0  \n",
       "1336                 0                 0                 1  \n",
       "1337                 1                 0                 0  \n",
       "\n",
       "[1337 rows x 10 columns]"
      ]
     },
     "execution_count": 22,
     "metadata": {},
     "output_type": "execute_result"
    }
   ],
   "source": [
    "df_clean"
   ]
  },
  {
   "cell_type": "code",
   "execution_count": 23,
   "id": "ff432ca4",
   "metadata": {},
   "outputs": [
    {
     "data": {
      "text/html": [
       "<div>\n",
       "<style scoped>\n",
       "    .dataframe tbody tr th:only-of-type {\n",
       "        vertical-align: middle;\n",
       "    }\n",
       "\n",
       "    .dataframe tbody tr th {\n",
       "        vertical-align: top;\n",
       "    }\n",
       "\n",
       "    .dataframe thead th {\n",
       "        text-align: right;\n",
       "    }\n",
       "</style>\n",
       "<table border=\"1\" class=\"dataframe\">\n",
       "  <thead>\n",
       "    <tr style=\"text-align: right;\">\n",
       "      <th></th>\n",
       "      <th>age</th>\n",
       "      <th>bmi</th>\n",
       "      <th>children</th>\n",
       "      <th>charges</th>\n",
       "      <th>male</th>\n",
       "      <th>smokes</th>\n",
       "      <th>region_northeast</th>\n",
       "      <th>region_northwest</th>\n",
       "      <th>region_southeast</th>\n",
       "      <th>region_southwest</th>\n",
       "    </tr>\n",
       "  </thead>\n",
       "  <tbody>\n",
       "    <tr>\n",
       "      <th>age</th>\n",
       "      <td>1.000000</td>\n",
       "      <td>0.109344</td>\n",
       "      <td>0.041536</td>\n",
       "      <td>0.298308</td>\n",
       "      <td>-0.019814</td>\n",
       "      <td>-0.025587</td>\n",
       "      <td>0.001868</td>\n",
       "      <td>0.001495</td>\n",
       "      <td>-0.012311</td>\n",
       "      <td>0.009415</td>\n",
       "    </tr>\n",
       "    <tr>\n",
       "      <th>bmi</th>\n",
       "      <td>0.109344</td>\n",
       "      <td>1.000000</td>\n",
       "      <td>0.012755</td>\n",
       "      <td>0.198401</td>\n",
       "      <td>0.046397</td>\n",
       "      <td>0.003746</td>\n",
       "      <td>-0.138178</td>\n",
       "      <td>-0.136138</td>\n",
       "      <td>0.270057</td>\n",
       "      <td>-0.006211</td>\n",
       "    </tr>\n",
       "    <tr>\n",
       "      <th>children</th>\n",
       "      <td>0.041536</td>\n",
       "      <td>0.012755</td>\n",
       "      <td>1.000000</td>\n",
       "      <td>0.067389</td>\n",
       "      <td>0.017848</td>\n",
       "      <td>0.007331</td>\n",
       "      <td>-0.023202</td>\n",
       "      <td>0.026044</td>\n",
       "      <td>-0.023492</td>\n",
       "      <td>0.021538</td>\n",
       "    </tr>\n",
       "    <tr>\n",
       "      <th>charges</th>\n",
       "      <td>0.298308</td>\n",
       "      <td>0.198401</td>\n",
       "      <td>0.067389</td>\n",
       "      <td>1.000000</td>\n",
       "      <td>0.058044</td>\n",
       "      <td>0.787234</td>\n",
       "      <td>0.005945</td>\n",
       "      <td>-0.038695</td>\n",
       "      <td>0.073578</td>\n",
       "      <td>-0.043637</td>\n",
       "    </tr>\n",
       "    <tr>\n",
       "      <th>male</th>\n",
       "      <td>-0.019814</td>\n",
       "      <td>0.046397</td>\n",
       "      <td>0.017848</td>\n",
       "      <td>0.058044</td>\n",
       "      <td>1.000000</td>\n",
       "      <td>0.076596</td>\n",
       "      <td>-0.002008</td>\n",
       "      <td>-0.012482</td>\n",
       "      <td>0.017578</td>\n",
       "      <td>-0.003767</td>\n",
       "    </tr>\n",
       "    <tr>\n",
       "      <th>smokes</th>\n",
       "      <td>-0.025587</td>\n",
       "      <td>0.003746</td>\n",
       "      <td>0.007331</td>\n",
       "      <td>0.787234</td>\n",
       "      <td>0.076596</td>\n",
       "      <td>1.000000</td>\n",
       "      <td>0.002597</td>\n",
       "      <td>-0.036321</td>\n",
       "      <td>0.068282</td>\n",
       "      <td>-0.037168</td>\n",
       "    </tr>\n",
       "    <tr>\n",
       "      <th>region_northeast</th>\n",
       "      <td>0.001868</td>\n",
       "      <td>-0.138178</td>\n",
       "      <td>-0.023202</td>\n",
       "      <td>0.005945</td>\n",
       "      <td>-0.002008</td>\n",
       "      <td>0.002597</td>\n",
       "      <td>1.000000</td>\n",
       "      <td>-0.319842</td>\n",
       "      <td>-0.345909</td>\n",
       "      <td>-0.320493</td>\n",
       "    </tr>\n",
       "    <tr>\n",
       "      <th>region_northwest</th>\n",
       "      <td>0.001495</td>\n",
       "      <td>-0.136138</td>\n",
       "      <td>0.026044</td>\n",
       "      <td>-0.038695</td>\n",
       "      <td>-0.012482</td>\n",
       "      <td>-0.036321</td>\n",
       "      <td>-0.319842</td>\n",
       "      <td>1.000000</td>\n",
       "      <td>-0.345909</td>\n",
       "      <td>-0.320493</td>\n",
       "    </tr>\n",
       "    <tr>\n",
       "      <th>region_southeast</th>\n",
       "      <td>-0.012311</td>\n",
       "      <td>0.270057</td>\n",
       "      <td>-0.023492</td>\n",
       "      <td>0.073578</td>\n",
       "      <td>0.017578</td>\n",
       "      <td>0.068282</td>\n",
       "      <td>-0.345909</td>\n",
       "      <td>-0.345909</td>\n",
       "      <td>1.000000</td>\n",
       "      <td>-0.346614</td>\n",
       "    </tr>\n",
       "    <tr>\n",
       "      <th>region_southwest</th>\n",
       "      <td>0.009415</td>\n",
       "      <td>-0.006211</td>\n",
       "      <td>0.021538</td>\n",
       "      <td>-0.043637</td>\n",
       "      <td>-0.003767</td>\n",
       "      <td>-0.037168</td>\n",
       "      <td>-0.320493</td>\n",
       "      <td>-0.320493</td>\n",
       "      <td>-0.346614</td>\n",
       "      <td>1.000000</td>\n",
       "    </tr>\n",
       "  </tbody>\n",
       "</table>\n",
       "</div>"
      ],
      "text/plain": [
       "                       age       bmi  children   charges      male    smokes  \\\n",
       "age               1.000000  0.109344  0.041536  0.298308 -0.019814 -0.025587   \n",
       "bmi               0.109344  1.000000  0.012755  0.198401  0.046397  0.003746   \n",
       "children          0.041536  0.012755  1.000000  0.067389  0.017848  0.007331   \n",
       "charges           0.298308  0.198401  0.067389  1.000000  0.058044  0.787234   \n",
       "male             -0.019814  0.046397  0.017848  0.058044  1.000000  0.076596   \n",
       "smokes           -0.025587  0.003746  0.007331  0.787234  0.076596  1.000000   \n",
       "region_northeast  0.001868 -0.138178 -0.023202  0.005945 -0.002008  0.002597   \n",
       "region_northwest  0.001495 -0.136138  0.026044 -0.038695 -0.012482 -0.036321   \n",
       "region_southeast -0.012311  0.270057 -0.023492  0.073578  0.017578  0.068282   \n",
       "region_southwest  0.009415 -0.006211  0.021538 -0.043637 -0.003767 -0.037168   \n",
       "\n",
       "                  region_northeast  region_northwest  region_southeast  \\\n",
       "age                       0.001868          0.001495         -0.012311   \n",
       "bmi                      -0.138178         -0.136138          0.270057   \n",
       "children                 -0.023202          0.026044         -0.023492   \n",
       "charges                   0.005945         -0.038695          0.073578   \n",
       "male                     -0.002008         -0.012482          0.017578   \n",
       "smokes                    0.002597         -0.036321          0.068282   \n",
       "region_northeast          1.000000         -0.319842         -0.345909   \n",
       "region_northwest         -0.319842          1.000000         -0.345909   \n",
       "region_southeast         -0.345909         -0.345909          1.000000   \n",
       "region_southwest         -0.320493         -0.320493         -0.346614   \n",
       "\n",
       "                  region_southwest  \n",
       "age                       0.009415  \n",
       "bmi                      -0.006211  \n",
       "children                  0.021538  \n",
       "charges                  -0.043637  \n",
       "male                     -0.003767  \n",
       "smokes                   -0.037168  \n",
       "region_northeast         -0.320493  \n",
       "region_northwest         -0.320493  \n",
       "region_southeast         -0.346614  \n",
       "region_southwest          1.000000  "
      ]
     },
     "execution_count": 23,
     "metadata": {},
     "output_type": "execute_result"
    }
   ],
   "source": [
    "#look at correlation\n",
    "df_clean.corr()"
   ]
  },
  {
   "cell_type": "code",
   "execution_count": 24,
   "id": "839028f1",
   "metadata": {},
   "outputs": [],
   "source": [
    "#linear regression\n",
    "#homoskedasticity --> normalize\n",
    "#features are normally distributed"
   ]
  },
  {
   "cell_type": "markdown",
   "id": "da7a550a",
   "metadata": {},
   "source": [
    "## EDA:\n",
    " data itself(bar, hist)\n",
    " compare variables (scatter plot)"
   ]
  },
  {
   "cell_type": "code",
   "execution_count": 25,
   "id": "555d0baa",
   "metadata": {},
   "outputs": [],
   "source": [
    "import matplotlib.pyplot as plt\n",
    "from scipy.stats import norm"
   ]
  },
  {
   "cell_type": "code",
   "execution_count": 26,
   "id": "8e13345c",
   "metadata": {},
   "outputs": [
    {
     "data": {
      "text/plain": [
       "8.841196836550673e-139"
      ]
     },
     "execution_count": 26,
     "metadata": {},
     "output_type": "execute_result"
    }
   ],
   "source": [
    "rng = np.arange(df_clean['age'].min(), df_clean['age'].max(), 0.1)\n",
    "norm.pdf(df_clean['age'].mean(), df_clean['age'].std())"
   ]
  },
  {
   "cell_type": "code",
   "execution_count": 27,
   "id": "2e7e731a",
   "metadata": {},
   "outputs": [
    {
     "data": {
      "image/png": "[encoded data removed]",
      "text/plain": [
       "<Figure size 640x480 with 1 Axes>"
      ]
     },
     "metadata": {},
     "output_type": "display_data"
    }
   ],
   "source": [
    "plt.hist(df_clean['age'], density=True) #, bins=20)\n",
    "rng = np.arange(df_clean['age'].min(), df_clean['age'].max(), 0.1)\n",
    "plt.plot(rng, norm.pdf(rng, df_clean['age'].mean(), df_clean['age'].std()))\n",
    "plt.title('Distribution of age variable', size=15)\n",
    "plt.ylabel('prob dist. function')\n",
    "plt.xlabel('Age (in years)')\n",
    "plt.show()"
   ]
  },
  {
   "cell_type": "markdown",
   "id": "1a599e90",
   "metadata": {},
   "source": [
    "* The age variable is roughly normally distributed"
   ]
  },
  {
   "cell_type": "code",
   "execution_count": 28,
   "id": "77722d02",
   "metadata": {},
   "outputs": [
    {
     "data": {
      "image/png": "[encoded data removed]",
      "text/plain": [
       "<Figure size 640x480 with 1 Axes>"
      ]
     },
     "metadata": {},
     "output_type": "display_data"
    }
   ],
   "source": [
    "plt.hist(df_clean['bmi'], density=True) #, bins=20)\n",
    "rng = np.arange(df_clean['bmi'].min(), df_clean['bmi'].max(), 0.1)\n",
    "plt.plot(rng, norm.pdf(rng, df_clean['bmi'].mean(), df_clean['bmi'].std()))\n",
    "plt.title('Distribution of BMI variable', size=15)\n",
    "plt.ylabel('prob dist. function')\n",
    "plt.xlabel('BMI')\n",
    "plt.show()"
   ]
  },
  {
   "cell_type": "markdown",
   "id": "504650c8",
   "metadata": {},
   "source": [
    "* The age variable is roughly normally distributed"
   ]
  },
  {
   "cell_type": "code",
   "execution_count": 29,
   "id": "f135792f",
   "metadata": {},
   "outputs": [
    {
     "data": {
      "image/png": "[encoded data removed]",
      "text/plain": [
       "<Figure size 640x480 with 1 Axes>"
      ]
     },
     "metadata": {},
     "output_type": "display_data"
    }
   ],
   "source": [
    "plt.scatter(df_clean['age'], df_clean['charges'], c= df_clean['smokes'], label=['smoker'])\n",
    "plt.legend(labels = ['smoker'])\n",
    "plt.title('Age versus medical charges with smokers highlighted', size=15)\n",
    "plt.ylabel('Medical charges (in $)')\n",
    "plt.xlabel('Age (in years)')\n",
    "plt.show()"
   ]
  },
  {
   "cell_type": "markdown",
   "id": "142e1f9d",
   "metadata": {},
   "source": [
    "* On average, within the same age groups, smokers tend to have higher medical charges."
   ]
  },
  {
   "cell_type": "code",
   "execution_count": 30,
   "id": "d97828d9",
   "metadata": {},
   "outputs": [],
   "source": [
    "# get features and labels\n",
    "y =  df_clean['charges']\n",
    "x = df_clean.drop(['charges'], axis=1)"
   ]
  },
  {
   "cell_type": "markdown",
   "id": "5946c7d8",
   "metadata": {},
   "source": [
    "## Standardize and scale columns"
   ]
  },
  {
   "cell_type": "code",
   "execution_count": 31,
   "id": "d4217099",
   "metadata": {},
   "outputs": [],
   "source": [
    "from sklearn.preprocessing import StandardScaler"
   ]
  },
  {
   "cell_type": "code",
   "execution_count": 32,
   "id": "0d7fbb61",
   "metadata": {},
   "outputs": [],
   "source": [
    "sc =  StandardScaler()"
   ]
  },
  {
   "cell_type": "code",
   "execution_count": 33,
   "id": "ea987f18",
   "metadata": {},
   "outputs": [],
   "source": [
    "x_standardized = pd.DataFrame(sc.fit_transform(x))"
   ]
  },
  {
   "cell_type": "code",
   "execution_count": 34,
   "id": "9d564a65",
   "metadata": {},
   "outputs": [
    {
     "data": {
      "text/html": [
       "<div>\n",
       "<style scoped>\n",
       "    .dataframe tbody tr th:only-of-type {\n",
       "        vertical-align: middle;\n",
       "    }\n",
       "\n",
       "    .dataframe tbody tr th {\n",
       "        vertical-align: top;\n",
       "    }\n",
       "\n",
       "    .dataframe thead th {\n",
       "        text-align: right;\n",
       "    }\n",
       "</style>\n",
       "<table border=\"1\" class=\"dataframe\">\n",
       "  <thead>\n",
       "    <tr style=\"text-align: right;\">\n",
       "      <th></th>\n",
       "      <th>0</th>\n",
       "      <th>1</th>\n",
       "      <th>2</th>\n",
       "      <th>3</th>\n",
       "      <th>4</th>\n",
       "      <th>5</th>\n",
       "      <th>6</th>\n",
       "      <th>7</th>\n",
       "      <th>8</th>\n",
       "    </tr>\n",
       "  </thead>\n",
       "  <tbody>\n",
       "    <tr>\n",
       "      <th>0</th>\n",
       "      <td>-1.440418</td>\n",
       "      <td>-0.453160</td>\n",
       "      <td>-0.909234</td>\n",
       "      <td>-1.009771</td>\n",
       "      <td>1.969660</td>\n",
       "      <td>-0.565546</td>\n",
       "      <td>-0.565546</td>\n",
       "      <td>-0.611638</td>\n",
       "      <td>1.764609</td>\n",
       "    </tr>\n",
       "    <tr>\n",
       "      <th>1</th>\n",
       "      <td>-1.511647</td>\n",
       "      <td>0.509422</td>\n",
       "      <td>-0.079442</td>\n",
       "      <td>0.990324</td>\n",
       "      <td>-0.507702</td>\n",
       "      <td>-0.565546</td>\n",
       "      <td>-0.565546</td>\n",
       "      <td>1.634955</td>\n",
       "      <td>-0.566698</td>\n",
       "    </tr>\n",
       "    <tr>\n",
       "      <th>2</th>\n",
       "      <td>-0.799350</td>\n",
       "      <td>0.383155</td>\n",
       "      <td>1.580143</td>\n",
       "      <td>0.990324</td>\n",
       "      <td>-0.507702</td>\n",
       "      <td>-0.565546</td>\n",
       "      <td>-0.565546</td>\n",
       "      <td>1.634955</td>\n",
       "      <td>-0.566698</td>\n",
       "    </tr>\n",
       "    <tr>\n",
       "      <th>3</th>\n",
       "      <td>-0.443201</td>\n",
       "      <td>-1.305052</td>\n",
       "      <td>-0.909234</td>\n",
       "      <td>0.990324</td>\n",
       "      <td>-0.507702</td>\n",
       "      <td>-0.565546</td>\n",
       "      <td>1.768203</td>\n",
       "      <td>-0.611638</td>\n",
       "      <td>-0.566698</td>\n",
       "    </tr>\n",
       "    <tr>\n",
       "      <th>4</th>\n",
       "      <td>-0.514431</td>\n",
       "      <td>-0.292456</td>\n",
       "      <td>-0.909234</td>\n",
       "      <td>0.990324</td>\n",
       "      <td>-0.507702</td>\n",
       "      <td>-0.565546</td>\n",
       "      <td>1.768203</td>\n",
       "      <td>-0.611638</td>\n",
       "      <td>-0.566698</td>\n",
       "    </tr>\n",
       "    <tr>\n",
       "      <th>...</th>\n",
       "      <td>...</td>\n",
       "      <td>...</td>\n",
       "      <td>...</td>\n",
       "      <td>...</td>\n",
       "      <td>...</td>\n",
       "      <td>...</td>\n",
       "      <td>...</td>\n",
       "      <td>...</td>\n",
       "      <td>...</td>\n",
       "    </tr>\n",
       "    <tr>\n",
       "      <th>1332</th>\n",
       "      <td>0.767704</td>\n",
       "      <td>0.050269</td>\n",
       "      <td>1.580143</td>\n",
       "      <td>0.990324</td>\n",
       "      <td>-0.507702</td>\n",
       "      <td>-0.565546</td>\n",
       "      <td>1.768203</td>\n",
       "      <td>-0.611638</td>\n",
       "      <td>-0.566698</td>\n",
       "    </tr>\n",
       "    <tr>\n",
       "      <th>1333</th>\n",
       "      <td>-1.511647</td>\n",
       "      <td>0.206053</td>\n",
       "      <td>-0.909234</td>\n",
       "      <td>-1.009771</td>\n",
       "      <td>-0.507702</td>\n",
       "      <td>1.768203</td>\n",
       "      <td>-0.565546</td>\n",
       "      <td>-0.611638</td>\n",
       "      <td>-0.566698</td>\n",
       "    </tr>\n",
       "    <tr>\n",
       "      <th>1334</th>\n",
       "      <td>-1.511647</td>\n",
       "      <td>1.014490</td>\n",
       "      <td>-0.909234</td>\n",
       "      <td>-1.009771</td>\n",
       "      <td>-0.507702</td>\n",
       "      <td>-0.565546</td>\n",
       "      <td>-0.565546</td>\n",
       "      <td>1.634955</td>\n",
       "      <td>-0.566698</td>\n",
       "    </tr>\n",
       "    <tr>\n",
       "      <th>1335</th>\n",
       "      <td>-1.297958</td>\n",
       "      <td>-0.797524</td>\n",
       "      <td>-0.909234</td>\n",
       "      <td>-1.009771</td>\n",
       "      <td>-0.507702</td>\n",
       "      <td>-0.565546</td>\n",
       "      <td>-0.565546</td>\n",
       "      <td>-0.611638</td>\n",
       "      <td>1.764609</td>\n",
       "    </tr>\n",
       "    <tr>\n",
       "      <th>1336</th>\n",
       "      <td>1.551231</td>\n",
       "      <td>-0.261299</td>\n",
       "      <td>-0.909234</td>\n",
       "      <td>-1.009771</td>\n",
       "      <td>1.969660</td>\n",
       "      <td>-0.565546</td>\n",
       "      <td>1.768203</td>\n",
       "      <td>-0.611638</td>\n",
       "      <td>-0.566698</td>\n",
       "    </tr>\n",
       "  </tbody>\n",
       "</table>\n",
       "<p>1337 rows × 9 columns</p>\n",
       "</div>"
      ],
      "text/plain": [
       "             0         1         2         3         4         5         6  \\\n",
       "0    -1.440418 -0.453160 -0.909234 -1.009771  1.969660 -0.565546 -0.565546   \n",
       "1    -1.511647  0.509422 -0.079442  0.990324 -0.507702 -0.565546 -0.565546   \n",
       "2    -0.799350  0.383155  1.580143  0.990324 -0.507702 -0.565546 -0.565546   \n",
       "3    -0.443201 -1.305052 -0.909234  0.990324 -0.507702 -0.565546  1.768203   \n",
       "4    -0.514431 -0.292456 -0.909234  0.990324 -0.507702 -0.565546  1.768203   \n",
       "...        ...       ...       ...       ...       ...       ...       ...   \n",
       "1332  0.767704  0.050269  1.580143  0.990324 -0.507702 -0.565546  1.768203   \n",
       "1333 -1.511647  0.206053 -0.909234 -1.009771 -0.507702  1.768203 -0.565546   \n",
       "1334 -1.511647  1.014490 -0.909234 -1.009771 -0.507702 -0.565546 -0.565546   \n",
       "1335 -1.297958 -0.797524 -0.909234 -1.009771 -0.507702 -0.565546 -0.565546   \n",
       "1336  1.551231 -0.261299 -0.909234 -1.009771  1.969660 -0.565546  1.768203   \n",
       "\n",
       "             7         8  \n",
       "0    -0.611638  1.764609  \n",
       "1     1.634955 -0.566698  \n",
       "2     1.634955 -0.566698  \n",
       "3    -0.611638 -0.566698  \n",
       "4    -0.611638 -0.566698  \n",
       "...        ...       ...  \n",
       "1332 -0.611638 -0.566698  \n",
       "1333 -0.611638 -0.566698  \n",
       "1334  1.634955 -0.566698  \n",
       "1335 -0.611638  1.764609  \n",
       "1336 -0.611638 -0.566698  \n",
       "\n",
       "[1337 rows x 9 columns]"
      ]
     },
     "execution_count": 34,
     "metadata": {},
     "output_type": "execute_result"
    }
   ],
   "source": [
    "x_standardized"
   ]
  },
  {
   "cell_type": "code",
   "execution_count": 35,
   "id": "a38019b9",
   "metadata": {},
   "outputs": [],
   "source": [
    "from sklearn.model_selection import train_test_split"
   ]
  },
  {
   "cell_type": "code",
   "execution_count": 36,
   "id": "bb321772",
   "metadata": {},
   "outputs": [],
   "source": [
    "# train, test split\n",
    "train_x, test_x, train_y, test_y = train_test_split(x_standardized, y)"
   ]
  },
  {
   "cell_type": "markdown",
   "id": "49e9c842",
   "metadata": {},
   "source": [
    "# ML models for regression\n",
    "1. Linear Regression\n",
    "2. Decision Tree Regressors\n",
    "3. Random Forest Regressors\n",
    "4. XGBoost Regressors"
   ]
  },
  {
   "cell_type": "markdown",
   "id": "b253c623",
   "metadata": {},
   "source": [
    "## Fit Linear Regression model"
   ]
  },
  {
   "cell_type": "code",
   "execution_count": 37,
   "id": "326057dc",
   "metadata": {},
   "outputs": [],
   "source": [
    "lr = LinearRegression()"
   ]
  },
  {
   "cell_type": "code",
   "execution_count": 38,
   "id": "bf1bfad5",
   "metadata": {},
   "outputs": [
    {
     "data": {
      "text/html": [
       "<style>#sk-container-id-1 {color: black;background-color: white;}#sk-container-id-1 pre{padding: 0;}#sk-container-id-1 div.sk-toggleable {background-color: white;}#sk-container-id-1 label.sk-toggleable__label {cursor: pointer;display: block;width: 100%;margin-bottom: 0;padding: 0.3em;box-sizing: border-box;text-align: center;}#sk-container-id-1 label.sk-toggleable__label-arrow:before {content: \"▸\";float: left;margin-right: 0.25em;color: #696969;}#sk-container-id-1 label.sk-toggleable__label-arrow:hover:before {color: black;}#sk-container-id-1 div.sk-estimator:hover label.sk-toggleable__label-arrow:before {color: black;}#sk-container-id-1 div.sk-toggleable__content {max-height: 0;max-width: 0;overflow: hidden;text-align: left;background-color: #f0f8ff;}#sk-container-id-1 div.sk-toggleable__content pre {margin: 0.2em;color: black;border-radius: 0.25em;background-color: #f0f8ff;}#sk-container-id-1 input.sk-toggleable__control:checked~div.sk-toggleable__content {max-height: 200px;max-width: 100%;overflow: auto;}#sk-container-id-1 input.sk-toggleable__control:checked~label.sk-toggleable__label-arrow:before {content: \"▾\";}#sk-container-id-1 div.sk-estimator input.sk-toggleable__control:checked~label.sk-toggleable__label {background-color: #d4ebff;}#sk-container-id-1 div.sk-label input.sk-toggleable__control:checked~label.sk-toggleable__label {background-color: #d4ebff;}#sk-container-id-1 input.sk-hidden--visually {border: 0;clip: rect(1px 1px 1px 1px);clip: rect(1px, 1px, 1px, 1px);height: 1px;margin: -1px;overflow: hidden;padding: 0;position: absolute;width: 1px;}#sk-container-id-1 div.sk-estimator {font-family: monospace;background-color: #f0f8ff;border: 1px dotted black;border-radius: 0.25em;box-sizing: border-box;margin-bottom: 0.5em;}#sk-container-id-1 div.sk-estimator:hover {background-color: #d4ebff;}#sk-container-id-1 div.sk-parallel-item::after {content: \"\";width: 100%;border-bottom: 1px solid gray;flex-grow: 1;}#sk-container-id-1 div.sk-label:hover label.sk-toggleable__label {background-color: #d4ebff;}#sk-container-id-1 div.sk-serial::before {content: \"\";position: absolute;border-left: 1px solid gray;box-sizing: border-box;top: 0;bottom: 0;left: 50%;z-index: 0;}#sk-container-id-1 div.sk-serial {display: flex;flex-direction: column;align-items: center;background-color: white;padding-right: 0.2em;padding-left: 0.2em;position: relative;}#sk-container-id-1 div.sk-item {position: relative;z-index: 1;}#sk-container-id-1 div.sk-parallel {display: flex;align-items: stretch;justify-content: center;background-color: white;position: relative;}#sk-container-id-1 div.sk-item::before, #sk-container-id-1 div.sk-parallel-item::before {content: \"\";position: absolute;border-left: 1px solid gray;box-sizing: border-box;top: 0;bottom: 0;left: 50%;z-index: -1;}#sk-container-id-1 div.sk-parallel-item {display: flex;flex-direction: column;z-index: 1;position: relative;background-color: white;}#sk-container-id-1 div.sk-parallel-item:first-child::after {align-self: flex-end;width: 50%;}#sk-container-id-1 div.sk-parallel-item:last-child::after {align-self: flex-start;width: 50%;}#sk-container-id-1 div.sk-parallel-item:only-child::after {width: 0;}#sk-container-id-1 div.sk-dashed-wrapped {border: 1px dashed gray;margin: 0 0.4em 0.5em 0.4em;box-sizing: border-box;padding-bottom: 0.4em;background-color: white;}#sk-container-id-1 div.sk-label label {font-family: monospace;font-weight: bold;display: inline-block;line-height: 1.2em;}#sk-container-id-1 div.sk-label-container {text-align: center;}#sk-container-id-1 div.sk-container {/* jupyter's `normalize.less` sets `[hidden] { display: none; }` but bootstrap.min.css set `[hidden] { display: none !important; }` so we also need the `!important` here to be able to override the default hidden behavior on the sphinx rendered scikit-learn.org. See: https://github.com/scikit-learn/scikit-learn/issues/21755 */display: inline-block !important;position: relative;}#sk-container-id-1 div.sk-text-repr-fallback {display: none;}</style><div id=\"sk-container-id-1\" class=\"sk-top-container\"><div class=\"sk-text-repr-fallback\"><pre>LinearRegression()</pre><b>In a Jupyter environment, please rerun this cell to show the HTML representation or trust the notebook. <br />On GitHub, the HTML representation is unable to render, please try loading this page with nbviewer.org.</b></div><div class=\"sk-container\" hidden><div class=\"sk-item\"><div class=\"sk-estimator sk-toggleable\"><input class=\"sk-toggleable__control sk-hidden--visually\" id=\"sk-estimator-id-1\" type=\"checkbox\" checked><label for=\"sk-estimator-id-1\" class=\"sk-toggleable__label sk-toggleable__label-arrow\">LinearRegression</label><div class=\"sk-toggleable__content\"><pre>LinearRegression()</pre></div></div></div></div></div>"
      ],
      "text/plain": [
       "LinearRegression()"
      ]
     },
     "execution_count": 38,
     "metadata": {},
     "output_type": "execute_result"
    }
   ],
   "source": [
    "lr.fit(train_x, train_y)"
   ]
  },
  {
   "cell_type": "code",
   "execution_count": 39,
   "id": "4267251f",
   "metadata": {},
   "outputs": [],
   "source": [
    "train_pred = lr.predict(train_x)"
   ]
  },
  {
   "cell_type": "code",
   "execution_count": 40,
   "id": "261fb588",
   "metadata": {},
   "outputs": [],
   "source": [
    "test_pred = lr.predict(test_x)"
   ]
  },
  {
   "cell_type": "code",
   "execution_count": 41,
   "id": "6bc1a1bb",
   "metadata": {},
   "outputs": [
    {
     "data": {
      "text/plain": [
       "0.6742098291891749"
      ]
     },
     "execution_count": 41,
     "metadata": {},
     "output_type": "execute_result"
    }
   ],
   "source": [
    "r2_score(train_pred, train_y)"
   ]
  },
  {
   "cell_type": "code",
   "execution_count": 42,
   "id": "75cf3107",
   "metadata": {},
   "outputs": [
    {
     "data": {
      "text/plain": [
       "0.6414663953375068"
      ]
     },
     "execution_count": 42,
     "metadata": {},
     "output_type": "execute_result"
    }
   ],
   "source": [
    "r2_score(test_pred, test_y)"
   ]
  },
  {
   "cell_type": "code",
   "execution_count": 43,
   "id": "36949d8e",
   "metadata": {},
   "outputs": [
    {
     "data": {
      "text/plain": [
       "36977694.31238314"
      ]
     },
     "execution_count": 43,
     "metadata": {},
     "output_type": "execute_result"
    }
   ],
   "source": [
    "mean_squared_error(train_pred, train_y)"
   ]
  },
  {
   "cell_type": "code",
   "execution_count": 44,
   "id": "adc865b9",
   "metadata": {},
   "outputs": [
    {
     "data": {
      "text/plain": [
       "35782311.45912462"
      ]
     },
     "execution_count": 44,
     "metadata": {},
     "output_type": "execute_result"
    }
   ],
   "source": [
    "mean_squared_error(test_pred, test_y)"
   ]
  },
  {
   "cell_type": "markdown",
   "id": "c3fcf9f7",
   "metadata": {},
   "source": [
    "### Compute Feature importance using SHAP"
   ]
  },
  {
   "cell_type": "code",
   "execution_count": 45,
   "id": "6d5c5f73",
   "metadata": {},
   "outputs": [],
   "source": [
    "explainer = shap.LinearExplainer(lr, train_x)\n",
    "shap_values = explainer.shap_values(test_x)"
   ]
  },
  {
   "cell_type": "code",
   "execution_count": 46,
   "id": "b40deadf",
   "metadata": {},
   "outputs": [
    {
     "data": {
      "image/png": "[encoded data removed]",
      "text/plain": [
       "<Figure size 800x510 with 2 Axes>"
      ]
     },
     "metadata": {},
     "output_type": "display_data"
    }
   ],
   "source": [
    "shap.summary_plot(shap_values, test_x, feature_names=x.columns)\n"
   ]
  },
  {
   "cell_type": "code",
   "execution_count": 47,
   "id": "c83d636f",
   "metadata": {},
   "outputs": [
    {
     "data": {
      "image/png": "[encoded data removed]",
      "text/plain": [
       "<Figure size 800x510 with 1 Axes>"
      ]
     },
     "metadata": {},
     "output_type": "display_data"
    }
   ],
   "source": [
    "shap.summary_plot(shap_values, test_x, plot_type=\"bar\", feature_names = x.columns)"
   ]
  },
  {
   "cell_type": "markdown",
   "id": "a0a1d676",
   "metadata": {},
   "source": [
    "## Fit Random Forest Regressor"
   ]
  },
  {
   "cell_type": "code",
   "execution_count": 48,
   "id": "a059d23a",
   "metadata": {},
   "outputs": [],
   "source": [
    "rf = RandomForestRegressor(n_estimators=1000)"
   ]
  },
  {
   "cell_type": "code",
   "execution_count": 49,
   "id": "1fc39246",
   "metadata": {},
   "outputs": [
    {
     "data": {
      "text/html": [
       "<style>#sk-container-id-2 {color: black;background-color: white;}#sk-container-id-2 pre{padding: 0;}#sk-container-id-2 div.sk-toggleable {background-color: white;}#sk-container-id-2 label.sk-toggleable__label {cursor: pointer;display: block;width: 100%;margin-bottom: 0;padding: 0.3em;box-sizing: border-box;text-align: center;}#sk-container-id-2 label.sk-toggleable__label-arrow:before {content: \"▸\";float: left;margin-right: 0.25em;color: #696969;}#sk-container-id-2 label.sk-toggleable__label-arrow:hover:before {color: black;}#sk-container-id-2 div.sk-estimator:hover label.sk-toggleable__label-arrow:before {color: black;}#sk-container-id-2 div.sk-toggleable__content {max-height: 0;max-width: 0;overflow: hidden;text-align: left;background-color: #f0f8ff;}#sk-container-id-2 div.sk-toggleable__content pre {margin: 0.2em;color: black;border-radius: 0.25em;background-color: #f0f8ff;}#sk-container-id-2 input.sk-toggleable__control:checked~div.sk-toggleable__content {max-height: 200px;max-width: 100%;overflow: auto;}#sk-container-id-2 input.sk-toggleable__control:checked~label.sk-toggleable__label-arrow:before {content: \"▾\";}#sk-container-id-2 div.sk-estimator input.sk-toggleable__control:checked~label.sk-toggleable__label {background-color: #d4ebff;}#sk-container-id-2 div.sk-label input.sk-toggleable__control:checked~label.sk-toggleable__label {background-color: #d4ebff;}#sk-container-id-2 input.sk-hidden--visually {border: 0;clip: rect(1px 1px 1px 1px);clip: rect(1px, 1px, 1px, 1px);height: 1px;margin: -1px;overflow: hidden;padding: 0;position: absolute;width: 1px;}#sk-container-id-2 div.sk-estimator {font-family: monospace;background-color: #f0f8ff;border: 1px dotted black;border-radius: 0.25em;box-sizing: border-box;margin-bottom: 0.5em;}#sk-container-id-2 div.sk-estimator:hover {background-color: #d4ebff;}#sk-container-id-2 div.sk-parallel-item::after {content: \"\";width: 100%;border-bottom: 1px solid gray;flex-grow: 1;}#sk-container-id-2 div.sk-label:hover label.sk-toggleable__label {background-color: #d4ebff;}#sk-container-id-2 div.sk-serial::before {content: \"\";position: absolute;border-left: 1px solid gray;box-sizing: border-box;top: 0;bottom: 0;left: 50%;z-index: 0;}#sk-container-id-2 div.sk-serial {display: flex;flex-direction: column;align-items: center;background-color: white;padding-right: 0.2em;padding-left: 0.2em;position: relative;}#sk-container-id-2 div.sk-item {position: relative;z-index: 1;}#sk-container-id-2 div.sk-parallel {display: flex;align-items: stretch;justify-content: center;background-color: white;position: relative;}#sk-container-id-2 div.sk-item::before, #sk-container-id-2 div.sk-parallel-item::before {content: \"\";position: absolute;border-left: 1px solid gray;box-sizing: border-box;top: 0;bottom: 0;left: 50%;z-index: -1;}#sk-container-id-2 div.sk-parallel-item {display: flex;flex-direction: column;z-index: 1;position: relative;background-color: white;}#sk-container-id-2 div.sk-parallel-item:first-child::after {align-self: flex-end;width: 50%;}#sk-container-id-2 div.sk-parallel-item:last-child::after {align-self: flex-start;width: 50%;}#sk-container-id-2 div.sk-parallel-item:only-child::after {width: 0;}#sk-container-id-2 div.sk-dashed-wrapped {border: 1px dashed gray;margin: 0 0.4em 0.5em 0.4em;box-sizing: border-box;padding-bottom: 0.4em;background-color: white;}#sk-container-id-2 div.sk-label label {font-family: monospace;font-weight: bold;display: inline-block;line-height: 1.2em;}#sk-container-id-2 div.sk-label-container {text-align: center;}#sk-container-id-2 div.sk-container {/* jupyter's `normalize.less` sets `[hidden] { display: none; }` but bootstrap.min.css set `[hidden] { display: none !important; }` so we also need the `!important` here to be able to override the default hidden behavior on the sphinx rendered scikit-learn.org. See: https://github.com/scikit-learn/scikit-learn/issues/21755 */display: inline-block !important;position: relative;}#sk-container-id-2 div.sk-text-repr-fallback {display: none;}</style><div id=\"sk-container-id-2\" class=\"sk-top-container\"><div class=\"sk-text-repr-fallback\"><pre>RandomForestRegressor(n_estimators=1000)</pre><b>In a Jupyter environment, please rerun this cell to show the HTML representation or trust the notebook. <br />On GitHub, the HTML representation is unable to render, please try loading this page with nbviewer.org.</b></div><div class=\"sk-container\" hidden><div class=\"sk-item\"><div class=\"sk-estimator sk-toggleable\"><input class=\"sk-toggleable__control sk-hidden--visually\" id=\"sk-estimator-id-2\" type=\"checkbox\" checked><label for=\"sk-estimator-id-2\" class=\"sk-toggleable__label sk-toggleable__label-arrow\">RandomForestRegressor</label><div class=\"sk-toggleable__content\"><pre>RandomForestRegressor(n_estimators=1000)</pre></div></div></div></div></div>"
      ],
      "text/plain": [
       "RandomForestRegressor(n_estimators=1000)"
      ]
     },
     "execution_count": 49,
     "metadata": {},
     "output_type": "execute_result"
    }
   ],
   "source": [
    "rf.fit(train_x, train_y)"
   ]
  },
  {
   "cell_type": "code",
   "execution_count": 50,
   "id": "3838e3c6",
   "metadata": {},
   "outputs": [],
   "source": [
    "train_pred_rf = rf.predict(train_x)\n",
    "test_pred = rf.predict(test_x)"
   ]
  },
  {
   "cell_type": "code",
   "execution_count": 51,
   "id": "cb22610b",
   "metadata": {},
   "outputs": [
    {
     "data": {
      "text/plain": [
       "36977694.31238314"
      ]
     },
     "execution_count": 51,
     "metadata": {},
     "output_type": "execute_result"
    }
   ],
   "source": [
    "mean_squared_error(train_pred, train_y)"
   ]
  },
  {
   "cell_type": "code",
   "execution_count": 52,
   "id": "058f3df9",
   "metadata": {},
   "outputs": [
    {
     "data": {
      "text/plain": [
       "25082865.434604857"
      ]
     },
     "execution_count": 52,
     "metadata": {},
     "output_type": "execute_result"
    }
   ],
   "source": [
    "mean_squared_error(test_pred, test_y)"
   ]
  },
  {
   "cell_type": "code",
   "execution_count": 53,
   "id": "1e3f5b75",
   "metadata": {},
   "outputs": [
    {
     "data": {
      "text/plain": [
       "0.7967864802675643"
      ]
     },
     "execution_count": 53,
     "metadata": {},
     "output_type": "execute_result"
    }
   ],
   "source": [
    "r2_score(test_pred, test_y)"
   ]
  },
  {
   "cell_type": "code",
   "execution_count": 54,
   "id": "9e0ae963",
   "metadata": {},
   "outputs": [
    {
     "data": {
      "text/plain": [
       "0.9771239699643486"
      ]
     },
     "execution_count": 54,
     "metadata": {},
     "output_type": "execute_result"
    }
   ],
   "source": [
    "r2_score(train_pred_rf, train_y)"
   ]
  },
  {
   "cell_type": "markdown",
   "id": "be30ccfc",
   "metadata": {},
   "source": [
    "### Compute feature importance\n",
    "1. Using scikit-learn feature importance method"
   ]
  },
  {
   "cell_type": "code",
   "execution_count": 55,
   "id": "b3dfa8d3",
   "metadata": {},
   "outputs": [
    {
     "data": {
      "text/plain": [
       "array([0.13579139, 0.20448218, 0.02101346, 0.00485128, 0.61657752,\n",
       "       0.00556282, 0.00530674, 0.00421731, 0.00219731])"
      ]
     },
     "execution_count": 55,
     "metadata": {},
     "output_type": "execute_result"
    }
   ],
   "source": [
    "rf.feature_importances_"
   ]
  },
  {
   "cell_type": "code",
   "execution_count": 56,
   "id": "bf2359e2",
   "metadata": {},
   "outputs": [
    {
     "data": {
      "image/png": "[encoded data removed]",
      "text/plain": [
       "<Figure size 640x480 with 1 Axes>"
      ]
     },
     "metadata": {},
     "output_type": "display_data"
    }
   ],
   "source": [
    "sorted_idx = rf.feature_importances_.argsort()\n",
    "plt.barh(x.columns[sorted_idx], rf.feature_importances_[sorted_idx])\n",
    "plt.xlabel(\"Random Forest Feature Importance\")\n",
    "plt.show()"
   ]
  },
  {
   "cell_type": "markdown",
   "id": "4025ce8e",
   "metadata": {},
   "source": [
    "2. Using SHAP"
   ]
  },
  {
   "cell_type": "code",
   "execution_count": 57,
   "id": "8c8ca9a8",
   "metadata": {},
   "outputs": [],
   "source": [
    "explainer = shap.TreeExplainer(rf)\n",
    "shap_values = explainer.shap_values(test_x)"
   ]
  },
  {
   "cell_type": "code",
   "execution_count": 58,
   "id": "0740e91b",
   "metadata": {},
   "outputs": [
    {
     "data": {
      "image/png": "[encoded data removed]",
      "text/plain": [
       "<Figure size 800x510 with 1 Axes>"
      ]
     },
     "metadata": {},
     "output_type": "display_data"
    }
   ],
   "source": [
    "shap.summary_plot(shap_values, test_x, plot_type=\"bar\", feature_names = x.columns)"
   ]
  },
  {
   "cell_type": "code",
   "execution_count": 59,
   "id": "29c73730",
   "metadata": {},
   "outputs": [
    {
     "data": {
      "text/plain": [
       "array([[[ 6.58717626e+03, -3.99785196e+02,  6.41895143e+01, ...,\n",
       "         -5.28099647e+01, -2.36029291e+01,  2.82983318e+00],\n",
       "        [-3.99785196e+02, -2.17866241e+03,  1.61331030e+02, ...,\n",
       "         -9.74314541e+00, -7.26486845e+00,  2.81986607e+00],\n",
       "        [ 6.41895143e+01,  1.61331030e+02, -9.91294763e+02, ...,\n",
       "         -1.56979902e-01, -1.40865882e+01,  4.36954038e+00],\n",
       "        ...,\n",
       "        [-5.28099647e+01, -9.74314541e+00, -1.56979902e-01, ...,\n",
       "         -5.43475564e+01, -1.56897936e+00, -1.00529631e-02],\n",
       "        [-2.36029291e+01, -7.26486845e+00, -1.40865882e+01, ...,\n",
       "         -1.56897936e+00, -4.90490595e+01,  5.97084235e-01],\n",
       "        [ 2.82983318e+00,  2.81986607e+00,  4.36954038e+00, ...,\n",
       "         -1.00529631e-02,  5.97084235e-01,  8.71046987e+00]],\n",
       "\n",
       "       [[-3.19841911e+03,  3.70275700e+01, -3.21323707e+01, ...,\n",
       "         -7.31536317e+01,  3.26751291e+01, -1.92025601e+01],\n",
       "        [ 3.70275700e+01,  1.49249739e+03,  3.63650376e+01, ...,\n",
       "         -9.77589182e+00,  2.13191421e+01,  1.72399899e+00],\n",
       "        [-3.21323707e+01,  3.63650376e+01, -1.05548237e+03, ...,\n",
       "         -2.15296268e+01, -1.06313225e+01,  5.29298544e+00],\n",
       "        ...,\n",
       "        [-7.31536317e+01, -9.77589182e+00, -2.15296268e+01, ...,\n",
       "          2.53962719e+02, -2.58378023e-01, -1.34429990e-01],\n",
       "        [ 3.26751291e+01,  2.13191421e+01, -1.06313225e+01, ...,\n",
       "         -2.58378023e-01, -5.58579326e+01,  1.34514317e+00],\n",
       "        [-1.92025601e+01,  1.72399899e+00,  5.29298544e+00, ...,\n",
       "         -1.34429990e-01,  1.34514317e+00,  8.90849136e+00]],\n",
       "\n",
       "       [[-2.30018698e+03,  2.07238735e+02, -6.16760588e+01, ...,\n",
       "         -3.87005053e+01,  2.42873268e+01, -1.91648632e+00],\n",
       "        [ 2.07238735e+02, -2.50452033e+03, -8.80155140e+01, ...,\n",
       "         -5.32310841e+01, -1.03441763e+02,  1.24019343e+01],\n",
       "        [-6.16760588e+01, -8.80155140e+01, -8.67471180e+02, ...,\n",
       "         -2.65563321e+01,  2.13352222e+00, -6.45215424e+00],\n",
       "        ...,\n",
       "        [-3.87005053e+01, -5.32310841e+01, -2.65563321e+01, ...,\n",
       "          2.48376014e+02,  1.76158413e+00, -1.10101498e+00],\n",
       "        [ 2.42873268e+01, -1.03441763e+02,  2.13352222e+00, ...,\n",
       "          1.76158413e+00, -7.50168078e+01,  8.10999457e-01],\n",
       "        [-1.91648632e+00,  1.24019343e+01, -6.45215424e+00, ...,\n",
       "         -1.10101498e+00,  8.10999457e-01,  1.63754112e+01]],\n",
       "\n",
       "       ...,\n",
       "\n",
       "       [[ 7.66460883e+03, -7.29036686e+02, -3.52532653e+02, ...,\n",
       "          5.08424593e+01,  8.50773137e+01, -8.82147924e+00],\n",
       "        [-7.29036686e+02,  2.81962029e+03,  1.33743716e+02, ...,\n",
       "         -1.83958250e+01, -2.44035798e+02,  4.71380001e-01],\n",
       "        [-3.52532653e+02,  1.33743716e+02, -8.75608449e+02, ...,\n",
       "          6.35232861e+00,  2.94722484e+01,  2.23898442e+00],\n",
       "        ...,\n",
       "        [ 5.08424593e+01, -1.83958250e+01,  6.35232861e+00, ...,\n",
       "         -8.78687201e+01,  2.18107780e+00,  3.07931248e-02],\n",
       "        [ 8.50773137e+01, -2.44035798e+02,  2.94722484e+01, ...,\n",
       "          2.18107780e+00,  3.40697164e+02, -6.54140253e+00],\n",
       "        [-8.82147924e+00,  4.71380001e-01,  2.23898442e+00, ...,\n",
       "          3.07931248e-02, -6.54140253e+00,  2.01416316e+01]],\n",
       "\n",
       "       [[-2.72957883e+03, -1.61874780e+02, -9.41579612e+01, ...,\n",
       "          1.53199515e+01, -1.54713118e+02, -1.33050339e+02],\n",
       "        [-1.61874780e+02,  1.86040454e+03, -2.39792123e+02, ...,\n",
       "          1.28437997e+01,  1.13744149e+01, -5.85509490e+01],\n",
       "        [-9.41579612e+01, -2.39792123e+02, -7.53169882e+02, ...,\n",
       "          2.25536192e+01,  4.07737106e+01, -6.75915588e+01],\n",
       "        ...,\n",
       "        [ 1.53199515e+01,  1.28437997e+01,  2.25536192e+01, ...,\n",
       "         -7.42375706e+01,  3.20401701e-01,  2.56793555e-03],\n",
       "        [-1.54713118e+02,  1.13744149e+01,  4.07737106e+01, ...,\n",
       "          3.20401701e-01,  2.94561754e+02,  1.60078630e+00],\n",
       "        [-1.33050339e+02, -5.85509490e+01, -6.75915588e+01, ...,\n",
       "          2.56793555e-03,  1.60078630e+00,  8.46398069e+01]],\n",
       "\n",
       "       [[-3.09372094e+03, -3.88240969e+01,  9.80401543e+01, ...,\n",
       "          9.22039210e+01, -1.75799849e+02, -8.40937358e+01],\n",
       "        [-3.88240969e+01,  1.86029300e+03, -5.05191750e+01, ...,\n",
       "          9.91581921e+00, -3.12042733e+01,  4.03163038e+00],\n",
       "        [ 9.80401543e+01, -5.05191750e+01,  1.02400649e+03, ...,\n",
       "         -3.92487710e+01, -1.26749506e+02, -2.59364622e+01],\n",
       "        ...,\n",
       "        [ 9.22039210e+01,  9.91581921e+00, -3.92487710e+01, ...,\n",
       "         -1.15383648e+02, -7.51462928e+00, -1.41749606e+00],\n",
       "        [-1.75799849e+02, -3.12042733e+01, -1.26749506e+02, ...,\n",
       "         -7.51462928e+00,  3.41073778e+02, -3.11612569e+00],\n",
       "        [-8.40937358e+01,  4.03163038e+00, -2.59364622e+01, ...,\n",
       "         -1.41749606e+00, -3.11612569e+00,  5.90909220e+01]]])"
      ]
     },
     "execution_count": 59,
     "metadata": {},
     "output_type": "execute_result"
    }
   ],
   "source": [
    "# takes a couple minutes since SHAP interaction values take a factor of 2 * # features\n",
    "# more time than SHAP values to compute\n",
    "shap.TreeExplainer(rf).shap_interaction_values(test_x[:100])"
   ]
  },
  {
   "cell_type": "code",
   "execution_count": 60,
   "id": "f8c54b07",
   "metadata": {},
   "outputs": [
    {
     "ename": "TypeError",
     "evalue": "object of type 'int' has no len()",
     "output_type": "error",
     "traceback": [
      "\u001b[0;31m---------------------------------------------------------------------------\u001b[0m",
      "\u001b[0;31mTypeError\u001b[0m                                 Traceback (most recent call last)",
      "Cell \u001b[0;32mIn[60], line 2\u001b[0m\n\u001b[1;32m      1\u001b[0m shap_interaction_values \u001b[38;5;241m=\u001b[39m shap\u001b[38;5;241m.\u001b[39mTreeExplainer(rf)\u001b[38;5;241m.\u001b[39mshap_interaction_values(test_x\u001b[38;5;241m.\u001b[39miloc[:\u001b[38;5;241m100\u001b[39m,:])\n\u001b[0;32m----> 2\u001b[0m shap\u001b[38;5;241m.\u001b[39msummary_plot(shap_interaction_values, test_x\u001b[38;5;241m.\u001b[39miloc[:\u001b[38;5;241m100\u001b[39m,:])\n",
      "File \u001b[0;32m~/anaconda3/lib/python3.11/site-packages/shap/plots/_beeswarm.py:615\u001b[0m, in \u001b[0;36msummary_legacy\u001b[0;34m(shap_values, features, feature_names, max_display, plot_type, color, axis_color, title, alpha, show, sort, color_bar, plot_size, layered_violin_max_num_bins, class_names, class_inds, color_bar_label, cmap, show_values_in_legend, auto_size_plot, use_log_scale)\u001b[0m\n\u001b[1;32m    613\u001b[0m pl\u001b[38;5;241m.\u001b[39mxlabel(\u001b[38;5;124m\"\u001b[39m\u001b[38;5;124m\"\u001b[39m)\n\u001b[1;32m    614\u001b[0m title_length_limit \u001b[38;5;241m=\u001b[39m \u001b[38;5;241m11\u001b[39m\n\u001b[0;32m--> 615\u001b[0m pl\u001b[38;5;241m.\u001b[39mtitle(shorten_text(feature_names[sort_inds[\u001b[38;5;241m0\u001b[39m]], title_length_limit))\n\u001b[1;32m    616\u001b[0m \u001b[38;5;28;01mfor\u001b[39;00m i \u001b[38;5;129;01min\u001b[39;00m \u001b[38;5;28mrange\u001b[39m(\u001b[38;5;241m1\u001b[39m, \u001b[38;5;28mmin\u001b[39m(\u001b[38;5;28mlen\u001b[39m(sort_inds), max_display)):\n\u001b[1;32m    617\u001b[0m     ind \u001b[38;5;241m=\u001b[39m sort_inds[i]\n",
      "File \u001b[0;32m~/anaconda3/lib/python3.11/site-packages/shap/plots/_beeswarm.py:435\u001b[0m, in \u001b[0;36mshorten_text\u001b[0;34m(text, length_limit)\u001b[0m\n\u001b[1;32m    434\u001b[0m \u001b[38;5;28;01mdef\u001b[39;00m \u001b[38;5;21mshorten_text\u001b[39m(text, length_limit):\n\u001b[0;32m--> 435\u001b[0m     \u001b[38;5;28;01mif\u001b[39;00m \u001b[38;5;28mlen\u001b[39m(text) \u001b[38;5;241m>\u001b[39m length_limit:\n\u001b[1;32m    436\u001b[0m         \u001b[38;5;28;01mreturn\u001b[39;00m text[:length_limit \u001b[38;5;241m-\u001b[39m \u001b[38;5;241m3\u001b[39m] \u001b[38;5;241m+\u001b[39m \u001b[38;5;124m\"\u001b[39m\u001b[38;5;124m...\u001b[39m\u001b[38;5;124m\"\u001b[39m\n\u001b[1;32m    437\u001b[0m     \u001b[38;5;28;01melse\u001b[39;00m:\n",
      "\u001b[0;31mTypeError\u001b[0m: object of type 'int' has no len()"
     ]
    },
    {
     "data": {
      "image/png": "[encoded data removed]",
      "text/plain": [
       "<Figure size 1150x660 with 1 Axes>"
      ]
     },
     "metadata": {},
     "output_type": "display_data"
    }
   ],
   "source": [
    "shap_interaction_values = shap.TreeExplainer(rf).shap_interaction_values(test_x.iloc[:100,:])\n",
    "shap.summary_plot(shap_interaction_values, test_x.iloc[:100,:])\n"
   ]
  },
  {
   "cell_type": "markdown",
   "id": "ac9d7a55",
   "metadata": {},
   "source": [
    "## Fit Decision Tree Classifier"
   ]
  },
  {
   "cell_type": "code",
   "execution_count": null,
   "id": "f6a7c2a7",
   "metadata": {},
   "outputs": [],
   "source": [
    "dt = DecisionTreeClassifier()\n"
   ]
  },
  {
   "cell_type": "code",
   "execution_count": null,
   "id": "fddf44d8",
   "metadata": {},
   "outputs": [],
   "source": [
    "train_y = train_y.astype(int)"
   ]
  },
  {
   "cell_type": "code",
   "execution_count": null,
   "id": "209461fd",
   "metadata": {},
   "outputs": [],
   "source": [
    "dt.fit(train_x, train_y)"
   ]
  },
  {
   "cell_type": "code",
   "execution_count": null,
   "id": "d9bcb20c",
   "metadata": {},
   "outputs": [],
   "source": [
    "train_pred_dt = dt.predict(train_x)\n",
    "test_pred = dt.predict(test_x)"
   ]
  },
  {
   "cell_type": "code",
   "execution_count": null,
   "id": "6d9d7d67",
   "metadata": {},
   "outputs": [],
   "source": [
    "mean_squared_error(test_pred, test_y)"
   ]
  },
  {
   "cell_type": "code",
   "execution_count": null,
   "id": "4c8cd68c",
   "metadata": {},
   "outputs": [],
   "source": [
    "r2_score(test_pred, test_y)"
   ]
  },
  {
   "cell_type": "code",
   "execution_count": null,
   "id": "f82c4334",
   "metadata": {},
   "outputs": [],
   "source": [
    "r2_score(train_pred_dt, train_y)"
   ]
  },
  {
   "cell_type": "code",
   "execution_count": null,
   "id": "7cf07726",
   "metadata": {},
   "outputs": [],
   "source": [
    "mean_squared_error(train_pred_dt, train_y)"
   ]
  },
  {
   "cell_type": "markdown",
   "id": "b84a2669",
   "metadata": {},
   "source": [
    "### Compute feature importance\n",
    "1. Using scikit-learn feature importance method"
   ]
  },
  {
   "cell_type": "code",
   "execution_count": null,
   "id": "fef23dc0",
   "metadata": {},
   "outputs": [],
   "source": [
    "sorted_idx = dt.feature_importances_.argsort()\n",
    "plt.barh(x.columns[sorted_idx], dt.feature_importances_[sorted_idx])\n",
    "plt.xlabel(\"Decision Trees Classifier Feature Importance\")\n",
    "plt.show()"
   ]
  },
  {
   "cell_type": "markdown",
   "id": "6f69d951",
   "metadata": {},
   "source": [
    "2. Using SHAP"
   ]
  },
  {
   "cell_type": "code",
   "execution_count": null,
   "id": "d033e9eb",
   "metadata": {},
   "outputs": [],
   "source": [
    "## not working - some bug\n"
   ]
  },
  {
   "cell_type": "code",
   "execution_count": null,
   "id": "60fd6838",
   "metadata": {},
   "outputs": [],
   "source": [
    "##"
   ]
  },
  {
   "cell_type": "markdown",
   "id": "e449e951",
   "metadata": {},
   "source": [
    "## Fit XGBoost Regressor"
   ]
  },
  {
   "cell_type": "code",
   "execution_count": null,
   "id": "11786cb3",
   "metadata": {},
   "outputs": [],
   "source": [
    "xgb = XGBRegressor()"
   ]
  },
  {
   "cell_type": "code",
   "execution_count": null,
   "id": "4166b1e9",
   "metadata": {},
   "outputs": [],
   "source": [
    "xgb.fit(train_x, train_y)"
   ]
  },
  {
   "cell_type": "code",
   "execution_count": null,
   "id": "7b47a58d",
   "metadata": {},
   "outputs": [],
   "source": [
    "mean_squared_error(xgb.predict(train_x), train_y)"
   ]
  },
  {
   "cell_type": "code",
   "execution_count": null,
   "id": "061801ab",
   "metadata": {},
   "outputs": [],
   "source": [
    "mean_squared_error(xgb.predict(test_x), test_y)"
   ]
  },
  {
   "cell_type": "code",
   "execution_count": null,
   "id": "c1b3b988",
   "metadata": {},
   "outputs": [],
   "source": [
    "r2_score(xgb.predict(test_x), test_y)"
   ]
  },
  {
   "cell_type": "code",
   "execution_count": null,
   "id": "585c519c",
   "metadata": {},
   "outputs": [],
   "source": [
    "r2_score(xgb.predict(train_x), train_y)"
   ]
  },
  {
   "cell_type": "markdown",
   "id": "465b0a72",
   "metadata": {},
   "source": [
    "### Compute feature importance\n",
    "1. Using built-in feature importance method"
   ]
  },
  {
   "cell_type": "code",
   "execution_count": null,
   "id": "8546bbbe",
   "metadata": {},
   "outputs": [],
   "source": [
    "feature_important = xgb.get_booster().get_score(importance_type='weight')\n",
    "keys = list(x.columns)\n",
    "values = list(feature_important.values())\n",
    "\n",
    "data = pd.DataFrame(data=values, index=keys, columns=[\"score\"]).sort_values(by = \"score\", ascending=False)\n",
    "data.nlargest(40, columns=\"score\").plot(kind='barh', figsize = (20,10)) ## plot top 40 features\n",
    "plt.title('Feature importance of XGBoost Regressor', size=20)\n",
    "plt.show()"
   ]
  },
  {
   "cell_type": "markdown",
   "id": "f20318ff",
   "metadata": {},
   "source": [
    "2. Using SHAP"
   ]
  },
  {
   "cell_type": "code",
   "execution_count": null,
   "id": "1411c377",
   "metadata": {},
   "outputs": [],
   "source": [
    "explainer = shap.Explainer(xgb)"
   ]
  },
  {
   "cell_type": "code",
   "execution_count": null,
   "id": "5701219a",
   "metadata": {},
   "outputs": [],
   "source": [
    "shap_values = explainer(test_x)"
   ]
  },
  {
   "cell_type": "code",
   "execution_count": null,
   "id": "b593d2b1",
   "metadata": {},
   "outputs": [],
   "source": [
    "shap.summary_plot(shap_values, test_x, plot_type=\"bar\", feature_names = x.columns)"
   ]
  },
  {
   "cell_type": "code",
   "execution_count": null,
   "id": "730f812b",
   "metadata": {},
   "outputs": [],
   "source": [
    "x.columns"
   ]
  },
  {
   "cell_type": "code",
   "execution_count": null,
   "id": "2985fc27",
   "metadata": {},
   "outputs": [],
   "source": [
    "shap.summary_plot(shap_values, test_x, feature_names=x.columns)"
   ]
  },
  {
   "cell_type": "code",
   "execution_count": null,
   "id": "abe0757f",
   "metadata": {},
   "outputs": [],
   "source": []
  }
 ],
 "metadata": {
  "kernelspec": {
   "display_name": "Python 3 (ipykernel)",
   "language": "python",
   "name": "python3"
  },
  "language_info": {
   "codemirror_mode": {
    "name": "ipython",
    "version": 3
   },
   "file_extension": ".py",
   "mimetype": "text/x-python",
   "name": "python",
   "nbconvert_exporter": "python",
   "pygments_lexer": "ipython3",
   "version": "3.11.4"
  }
 },
 "nbformat": 4,
 "nbformat_minor": 5
}
